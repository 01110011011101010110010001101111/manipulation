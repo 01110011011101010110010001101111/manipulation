{
  "nbformat": 4,
  "nbformat_minor": 0,
  "metadata": {
    "colab": {
      "name": "Robotic Manipulation - Bin Picking.ipynb",
      "provenance": [],
      "collapsed_sections": [],
      "toc_visible": true
    },
    "kernelspec": {
      "display_name": "Python 3",
      "language": "python",
      "name": "python3"
    },
    "language_info": {
      "codemirror_mode": {
        "name": "ipython",
        "version": 3
      },
      "file_extension": ".py",
      "mimetype": "text/x-python",
      "name": "python",
      "nbconvert_exporter": "python",
      "pygments_lexer": "ipython3",
      "version": "3.8.5-final"
    }
  },
  "cells": [
    {
      "cell_type": "markdown",
      "metadata": {
        "colab_type": "text",
        "id": "TKvYiJgnYExi"
      },
      "source": [
        "**I recommend you run the first code cell of this notebook immediately, to start provisioning drake on the cloud machine, then you can leave this window open as you [read the textbook](http://manipulation.csail.mit.edu/clutter.html).**\n",
        "\n",
        "# Notebook Setup\n",
        "\n",
        "The following cell will:\n",
        "- on Colab (only), install Drake to `/opt/drake`, install Drake's prerequisites via `apt`, and add pydrake to `sys.path`.  This will take approximately two minutes on the first time it runs (to provision the machine), but should only need to reinstall once every 12 hours.  If you navigate between notebooks using Colab's \"File->Open\" menu, then you can avoid provisioning a separate machine for each notebook.\n",
        "- define some utility methods/classes that will eventually disappear from this notebook and live in drake.\n",
        "\n",
        "You will need to rerun this cell if you restart the kernel, but it should be fast because the machine will already have drake installed."
      ]
    },
    {
      "cell_type": "code",
      "metadata": {
        "colab_type": "code",
        "id": "A4QOaw_zYLfI",
        "colab": {}
      },
      "source": [
        "import importlib\n",
        "import sys\n",
        "from urllib.request import urlretrieve\n",
        "\n",
        "# Install drake.\n",
        "if 'google.colab' in sys.modules and importlib.util.find_spec('pydrake') is None:\n",
        "  version='20200918'\n",
        "  build='nightly'\n",
        "  urlretrieve(f\"https://drake-packages.csail.mit.edu/drake/{build}/drake-{version}/setup_drake_colab.py\", \"setup_drake_colab.py\")\n",
        "  from setup_drake_colab import setup_drake\n",
        "  setup_drake(version=version, build=build)\n",
        "  !pip install pyngrok\n",
        "\n",
        "server_args = []\n",
        "if 'google.colab' in sys.modules:\n",
        "  server_args = ['--ngrok_http_tunnel']\n",
        "\n",
        "# Determine if this notebook is currently running as a notebook or a unit test.\n",
        "from IPython import get_ipython\n",
        "running_as_notebook = get_ipython() and hasattr(get_ipython(), 'kernel')\n",
        "\n",
        "# Start a single meshcat server instance to use for the remainder of this notebook.\n",
        "from meshcat.servers.zmqserver import start_zmq_server_as_subprocess\n",
        "proc, zmq_url, web_url = start_zmq_server_as_subprocess(server_args=server_args)\n",
        "\n",
        "# Imports\n",
        "import numpy as np\n",
        "from IPython.display import display\n",
        "from ipywidgets import Textarea\n",
        "\n",
        "from pydrake.all import ( \n",
        "    ConnectMeshcatVisualizer, DiagramBuilder, \n",
        "    AddMultibodyPlantSceneGraph, \n",
        "    RigidTransform, RotationMatrix\n",
        ")\n",
        "from pydrake.all import (Box, CoulombFriction, FindResourceOrThrow, FixedOffsetFrame, GeometryInstance, IllustrationProperties, MeshcatContactVisualizer, Parser, PlanarJoint, ProximityProperties, SpatialInertia)\n",
        "from pydrake.multibody.jupyter_widgets import MakeJointSlidersThatPublishOnCallback\n"
      ],
      "execution_count": null,
      "outputs": []
    },
    {
      "cell_type": "code",
      "metadata": {
        "colab_type": "code",
        "id": "7dimkJhd9DjP",
        "colab": {},
        "tags": []
      },
      "source": [
        "def contact_force_inspector(slope=0.0, mu=0.1):\n",
        "    builder = DiagramBuilder()\n",
        "\n",
        "    plant, scene_graph = AddMultibodyPlantSceneGraph(builder, time_step=0.01)\n",
        "\n",
        "    # Note: adding the geometry directory to the world_body() did not generate contact results.\n",
        "    ground_instance = plant.AddModelInstance(\"ground\")\n",
        "    ground_body = plant.AddRigidBody(\"ground\", ground_instance, SpatialInertia())\n",
        "    plant.WeldFrames(plant.world_frame(), plant.GetFrameByName(\"ground\"))\n",
        "    box = Box(10., 10., 10.)\n",
        "    X_WBox = RigidTransform(RotationMatrix.MakeYRotation(slope), [0, 0, -5.05])\n",
        "    plant.RegisterCollisionGeometry(ground_body, X_WBox, box, \"ground\", CoulombFriction(mu, mu))\n",
        "    plant.RegisterVisualGeometry(ground_body, X_WBox, box, \"ground\", [.9, .9, .9, 1.0])\n",
        "\n",
        "    parser = Parser(plant)\n",
        "    parser.AddModelFromFile(FindResourceOrThrow(\n",
        "        \"drake/examples/manipulation_station/models/061_foam_brick.sdf\"\n",
        "    ))\n",
        "    frame = plant.AddFrame(FixedOffsetFrame(\"planar_joint_frame\", plant.world_frame(), RigidTransform(RotationMatrix.MakeXRotation(np.pi/2))))\n",
        "    plant.AddJoint(PlanarJoint(\"brick\", frame, plant.GetFrameByName(\"base_link\"), damping=[0,0,0]))\n",
        "\n",
        "#    brick2 = parser.AddModelFromFile(FindResourceOrThrow(\n",
        "#        \"drake/examples/manipulation_station/models/061_foam_brick.sdf\"\n",
        "#    ), \"brick2\")\n",
        "#    frame = plant.AddFrame(FixedOffsetFrame(\"planar_joint_frame2\", plant.world_frame(), RigidTransform(RotationMatrix.MakeXRotation(np.pi/2))))\n",
        "#    plant.AddJoint(PlanarJoint(\"brick2\", frame, plant.GetFrameByName(\"base_link\", brick2), damping=[0,0,0]))\n",
        "\n",
        "\n",
        "    # Add \"ground\", with a rotary joint so that we can simulate an incline.\n",
        "    plant.Finalize()\n",
        "\n",
        "    meshcat = ConnectMeshcatVisualizer(\n",
        "        builder, \n",
        "        scene_graph, \n",
        "        zmq_url=zmq_url,\n",
        "        server_args=server_args)\n",
        "    meshcat.set_planar_viewpoint(xmin=-.2, xmax=.2, ymin=-.2, ymax=0.3)\n",
        "\n",
        "    contact_visualizer = builder.AddSystem(MeshcatContactVisualizer(meshcat, \n",
        "                                           force_threshold=0.0,\n",
        "                                           contact_force_scale=1.0, \n",
        "# needs https://github.com/RobotLocomotion/drake/pull/14131\n",
        "#                                           radius=0.002,   \n",
        "                                           plant=plant))\n",
        "    builder.Connect(scene_graph.get_pose_bundle_output_port(),\n",
        "                    contact_visualizer.GetInputPort(\"pose_bundle\"))\n",
        "    builder.Connect(plant.get_contact_results_output_port(),\n",
        "                    contact_visualizer.GetInputPort(\"contact_results\"))\n",
        "\n",
        "    diagram = builder.Build()\n",
        "    meshcat.load()\n",
        "    context = diagram.CreateDefaultContext()\n",
        "\n",
        "    textoutput = Textarea(value=\"\", description=\"contact info: \", layout={'width':'800px','height':'100px'}, style={'description_width':'initial'})\n",
        "    display(textoutput)\n",
        "    def my_callback(plant_context):\n",
        "        results = plant.get_contact_results_output_port().Eval(plant_context)\n",
        "        textoutput.value = \"\" if results.num_point_pair_contacts()>0 else \"no contact\"\n",
        "        for i in range(results.num_point_pair_contacts()):\n",
        "            info = results.point_pair_contact_info(i)\n",
        "            pair = info.point_pair()\n",
        "            textoutput.value += f\"slip speed:{info.slip_speed():.4f}, depth:{pair.depth:.4f}, \"\n",
        "            textoutput.value += \"force:\" + np.array2string(info.contact_force(), formatter={'float': lambda x: \"{:5.2f}\".format(x)}) + \"\\n\"\n",
        "\n",
        "    MakeJointSlidersThatPublishOnCallback(plant, diagram, context, my_callback, resolution=0.001,\n",
        "                                          lower_limit=[-0.1, -0.1, -np.pi/2.0],# -0.1, -0.1, -np.pi/2.0],\n",
        "                                          upper_limit=[0.1, 0.1, np.pi/2.0]) #, 0.1, 0.1, np.pi/2.0])    \n",
        "\n",
        "contact_force_inspector(slope=0.1, mu=1.0)"
      ],
      "execution_count": null,
      "outputs": []
    },
    {
      "cell_type": "code",
      "metadata": {
        "colab_type": "code",
        "id": "_JIDhLfN3BSe",
        "colab": {}
      },
      "source": [
        ""
      ],
      "execution_count": null,
      "outputs": []
    }
  ]
}