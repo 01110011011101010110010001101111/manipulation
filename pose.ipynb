{
  "nbformat": 4,
  "nbformat_minor": 0,
  "metadata": {
    "kernelspec": {
      "display_name": "Python 3",
      "language": "python",
      "name": "python3"
    },
    "language_info": {
      "codemirror_mode": {
        "name": "ipython",
        "version": 3
      },
      "file_extension": ".py",
      "mimetype": "text/x-python",
      "name": "python",
      "nbconvert_exporter": "python",
      "pygments_lexer": "ipython3",
      "version": "3.8.5-final"
    },
    "colab": {
      "name": "Robotic Manipulation - Basic Pick and Place.ipynb",
      "provenance": [],
      "collapsed_sections": [],
      "toc_visible": true
    }
  },
  "cells": [
    {
      "cell_type": "markdown",
      "metadata": {
        "id": "EgiF12Hf1Dhs",
        "colab_type": "text"
      },
      "source": [
        "**I recommend you run the first code cell of this notebook immediately, to start provisioning drake on the cloud machine, then you can leave this window open as you [read the textbook](manipulation.csail.mit.edu/pose.html).**\n",
        "\n",
        "# Notebook setup\n",
        "\n",
        "The following cell will:\n",
        "- on Colab (only), install Drake to `/opt/drake`, install Drake's prerequisites via `apt`, and add pydrake to `sys.path`.  This will take approximately two minutes on the first time it runs (to provision the machine), but should only need to reinstall once every 12 hours.  If you navigate between notebooks using Colab's \"File->Open\" menu, then you can avoid provisioning a separate machine for each notebook.\n",
        "- launch a server for our 3D visualizer (MeshCat) that will be used for the remainder of this notebook.\n",
        "\n",
        "You will need to rerun this cell if you restart the kernel, but it should be fast because the machine will already have drake installed."
      ]
    },
    {
      "cell_type": "code",
      "metadata": {
        "id": "eeMrMI0-1Dhu",
        "colab_type": "code",
        "colab": {}
      },
      "source": [
        "import importlib\n",
        "import sys\n",
        "from urllib.request import urlretrieve\n",
        "\n",
        "# Install drake.\n",
        "if 'google.colab' in sys.modules and importlib.util.find_spec('pydrake') is None:\n",
        "  version='20200909'\n",
        "  build='nightly'\n",
        "  urlretrieve(f\"https://drake-packages.csail.mit.edu/drake/{build}/drake-{version}/setup_drake_colab.py\",\n",
        "              \"setup_drake_colab.py\")\n",
        "  from setup_drake_colab import setup_drake\n",
        "  setup_drake(version=version, build=build)\n",
        "\n",
        "# Determine if this notebook is currently running as a notebook or a unit test.\n",
        "from IPython import get_ipython\n",
        "running_as_notebook = get_ipython() and hasattr(get_ipython(), 'kernel')\n",
        "\n",
        "# Install pyngrok.\n",
        "server_args = []\n",
        "if 'google.colab' in sys.modules:\n",
        "  server_args = ['--ngrok_http_tunnel']\n",
        "\n",
        "# Start a single meshcat server instance to use for the remainder of this notebook.\n",
        "from meshcat.servers.zmqserver import start_zmq_server_as_subprocess\n",
        "proc, zmq_url, web_url = start_zmq_server_as_subprocess(server_args=server_args)\n",
        "\n",
        "\n"
      ],
      "execution_count": null,
      "outputs": []
    },
    {
      "cell_type": "code",
      "execution_count": null,
      "metadata": {},
      "outputs": [],
      "source": [
        "# Let's do all of our imports here, too.\n",
        "import numpy as np\n",
        "import matplotlib.pyplot as plt, mpld3\n",
        "\n",
        "from pydrake.all import (\n",
        "    FindResourceOrThrow, set_log_level, ConnectMeshcatVisualizer, DepthCameraProperties, MakeRenderEngineVtk,RenderEngineVtkParams, RigidTransform, RollPitchYaw, Parser, AddMultibodyPlantSceneGraph, BaseField, DepthImageToPointCloud, DiagramBuilder, RgbdSensor)\n",
        "\n",
        "if running_as_notebook:\n",
        "    mpld3.enable_notebook()"
      ]
    },
    {
      "cell_type": "markdown",
      "metadata": {
        "id": "7q0A14bAilIX",
        "colab_type": "text"
      },
      "source": [
        "# Simulating an RGB-D camera\n",
        "\n"
      ]
    },
    {
      "cell_type": "code",
      "metadata": {
        "id": "ILYLouFTjv6e",
        "colab_type": "code",
        "colab": {}
      },
      "source": [
        "def DepthCameraDemoSystem():\n",
        "    builder = DiagramBuilder()\n",
        "\n",
        "    # If you have trouble finding resources, you can enable trace logging\n",
        "    # to see how `FindResource*` is searching.\n",
        "    set_log_level(\"trace\")\n",
        "\n",
        "    # Create the physics engine + scene graph.\n",
        "    plant, scene_graph = AddMultibodyPlantSceneGraph(builder, time_step=0.0)\n",
        "    # Add a single object into it.\n",
        "    Parser(plant, scene_graph).AddModelFromFile(\n",
        "        FindResourceOrThrow(\n",
        "            \"drake/manipulation/models/ycb/sdf/006_mustard_bottle.sdf\"))\n",
        "    # Add a rendering engine\n",
        "    renderer = \"my_renderer\"\n",
        "    scene_graph.AddRenderer(renderer,\n",
        "                            MakeRenderEngineVtk(RenderEngineVtkParams()))\n",
        "    plant.Finalize()\n",
        "\n",
        "    meshcat = ConnectMeshcatVisualizer(builder, scene_graph, zmq_url=zmq_url)\n",
        "    meshcat.load()\n",
        "\n",
        "    # Add a camera to the environment.\n",
        "    pose = RigidTransform(RollPitchYaw(-0.2, 0.2, 0), [-.1, -0.1, -.5])\n",
        "    properties = DepthCameraProperties(width=640,\n",
        "                                       height=480,\n",
        "                                       fov_y=np.pi / 4.0,\n",
        "                                       renderer_name=renderer,\n",
        "                                       z_near=0.1,\n",
        "                                       z_far=10.0)\n",
        "    camera = builder.AddSystem(\n",
        "        RgbdSensor(parent_id=scene_graph.world_frame_id(),\n",
        "                   X_PB=pose,\n",
        "                   properties=properties,\n",
        "                   show_window=False))\n",
        "    camera.set_name(\"rgbd_sensor\")\n",
        "    builder.Connect(scene_graph.get_query_output_port(),\n",
        "                    camera.query_object_input_port())\n",
        "\n",
        "    # Export the camera outputs\n",
        "    builder.ExportOutput(camera.color_image_output_port(), \"color_image\")\n",
        "    builder.ExportOutput(camera.depth_image_32F_output_port(), \"depth_image\")\n",
        "\n",
        "    # Add a system to convert the camera output into a point cloud\n",
        "    to_point_cloud = builder.AddSystem(\n",
        "        DepthImageToPointCloud(camera_info=camera.depth_camera_info(),\n",
        "                               fields=BaseField.kXYZs | BaseField.kRGBs))\n",
        "    builder.Connect(camera.depth_image_32F_output_port(),\n",
        "                    to_point_cloud.depth_image_input_port())\n",
        "    builder.Connect(camera.color_image_output_port(),\n",
        "                    to_point_cloud.color_image_input_port())\n",
        "\n",
        "    # Export the point cloud output.\n",
        "    builder.ExportOutput(to_point_cloud.point_cloud_output_port(),\n",
        "                         \"point_cloud\")\n",
        "\n",
        "    diagram = builder.Build()\n",
        "    diagram.set_name(\"depth_camera_demo_system\")\n",
        "    return diagram\n"
      ],
      "execution_count": null,
      "outputs": []
    },
    {
      "cell_type": "code",
      "execution_count": null,
      "metadata": {
        "tags": []
      },
      "outputs": [],
      "source": [
        "system = DepthCameraDemoSystem()\n",
        "\n",
        "# Evaluate the camera output ports to get the images.\n",
        "context = system.CreateDefaultContext()\n",
        "system.Publish(context)\n",
        "color_image = system.GetOutputPort(\"color_image\").Eval(context)\n",
        "depth_image = system.GetOutputPort(\"depth_image\").Eval(context)\n",
        "\n",
        "# Plot the two images.\n",
        "plt.subplot(121)\n",
        "plt.imshow(color_image.data)\n",
        "plt.title('Color image')\n",
        "plt.subplot(122)\n",
        "plt.imshow(np.squeeze(depth_image.data))\n",
        "plt.title('Depth image')\n",
        "mpld3.display()\n"
      ]
    },
    {
      "cell_type": "code",
      "execution_count": null,
      "metadata": {},
      "outputs": [],
      "source": []
    }
  ]
}