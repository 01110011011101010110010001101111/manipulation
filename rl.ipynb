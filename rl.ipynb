{
 "cells": [
  {
   "cell_type": "markdown",
   "metadata": {
    "colab_type": "text",
    "id": "EgiF12Hf1Dhs"
   },
   "source": [
    "This notebook provides examples to go along with the [textbook](http://manipulation.csail.mit.edu/rl.html).  I recommend having both windows open, side-by-side!"
   ]
  },
  {
   "cell_type": "code",
   "execution_count": null,
   "metadata": {},
   "outputs": [],
   "source": [
    "import nevergrad as ng\n",
    "import numpy as np\n",
    "\n",
    "from pydrake.all import (\n",
    "    Rgba, RigidTransform, Sphere,\n",
    ")\n",
    "\n",
    "from manipulation.meshcat_cpp_utils import StartMeshcat, plot_surface"
   ]
  },
  {
   "cell_type": "code",
   "execution_count": null,
   "metadata": {},
   "outputs": [],
   "source": [
    "meshcat = StartMeshcat()"
   ]
  },
  {
   "cell_type": "markdown",
   "metadata": {},
   "source": [
    "First, let's define a few interesting cost functions that have multiple local minima."
   ]
  },
  {
   "cell_type": "code",
   "execution_count": null,
   "metadata": {},
   "outputs": [],
   "source": [
    "def three_hump_camel(x, y, path=None):\n",
    "    z = (2 * x**2 - 1.05 * x**4 + x**6 / 6 + x * y + y**2) / 4\n",
    "    if path:\n",
    "        pt = f\"{path}/{x}_{y}\"\n",
    "        meshcat.SetObject(pt, Sphere(0.01), Rgba(0, 0, 1, 1))\n",
    "        meshcat.SetTransform(pt, RigidTransform([x, y, z]))\n",
    "    return z\n",
    "\n",
    "def plot_three_hump_camel():\n",
    "    X, Y = np.meshgrid(np.arange(-2.5, 2.5, 0.05), np.arange(-3, 3, 0.05))\n",
    "    Z = three_hump_camel(X,Y)\n",
    "    # TODO(russt): Finish the per-vertex coloring variant.\n",
    "    plot_surface(meshcat, \"three_hump_camel\", X, Y, Z, wireframe=True)\n",
    "\n",
    "def six_hump_camel(x, y, path=None):\n",
    "    z = x**2 * (4 - 2.1 * x**2 + x**4 / 3) + x * y + y**2 * (-4 + 4 * y**2)\n",
    "    if path:\n",
    "        pt = f\"{path}/{x}_{y}\"\n",
    "        meshcat.SetObject(pt, Sphere(0.01), Rgba(0, 0, 1, 1))\n",
    "        meshcat.SetTransform(pt, RigidTransform([x, y, z]))\n",
    "    return z\n",
    "\n",
    "def plot_six_hump_camel():\n",
    "    X, Y = np.meshgrid(np.arange(-2, 2, 0.05), np.arange(-1.2, 1.2, 0.05))\n",
    "    Z = six_hump_camel(X,Y)\n",
    "    # TODO(russt): Finish the per-vertex coloring variant.\n",
    "    plot_surface(meshcat, \"six_hump_camel\", X, Y, Z, wireframe=True)\n"
   ]
  },
  {
   "cell_type": "markdown",
   "metadata": {},
   "source": [
    "# Black-box optimization\n",
    "\n",
    "Let's explore a few of the algorithms from Nevergrad on these simple cost landscapes"
   ]
  },
  {
   "cell_type": "code",
   "execution_count": null,
   "metadata": {},
   "outputs": [],
   "source": [
    "meshcat.Delete()\n",
    "plot_six_hump_camel()\n",
    "\n",
    "# Note: You can print nevergrad's available optimizers using\n",
    "# print(sorted(ng.optimizers.registry.keys()))\n",
    "\n",
    "# Uncomment some of these to try...\n",
    "#solver='NGOpt'\n",
    "#solver='RandomSearch'\n",
    "solver='CMA'\n",
    "optimizer = ng.optimizers.registry[solver](parametrization=2, budget=100)\n",
    "recommendation = optimizer.minimize(\n",
    "    lambda x: six_hump_camel(x[0], x[1], \"NGOpt\"))\n",
    "xstar = recommendation.value\n",
    "meshcat.SetObject(\"recommendation\", Sphere(0.02), Rgba(0, 1, 0, 1))\n",
    "meshcat.SetTransform(\"recommendation\", RigidTransform(\n",
    "    [xstar[0], xstar[1], six_hump_camel(xstar[0], xstar[1])]))\n",
    "print(xstar)  # recommended value\n"
   ]
  },
  {
   "cell_type": "code",
   "execution_count": null,
   "metadata": {},
   "outputs": [],
   "source": []
  }
 ],
 "metadata": {
  "colab": {
   "collapsed_sections": [],
   "name": "Robotic Manipulation - Geometric Pose Estimation.ipynb",
   "provenance": [],
   "toc_visible": true
  },
  "interpreter": {
   "hash": "31f2aee4e71d21fbe5cf8b01ff0e069b9275f58929596ceb00d14d90e3e16cd6"
  },
  "kernelspec": {
   "display_name": "Python 3.6.9 64-bit",
   "name": "python3"
  },
  "language_info": {
   "codemirror_mode": {
    "name": "ipython",
    "version": 3
   },
   "file_extension": ".py",
   "mimetype": "text/x-python",
   "name": "python",
   "nbconvert_exporter": "python",
   "pygments_lexer": "ipython3",
   "version": "3.6.9"
  },
  "metadata": {
   "interpreter": {
    "hash": "aee8b7b246df8f9039afb4144a1f6fd8d2ca17a180786b69acc140d282b71a49"
   }
  }
 },
 "nbformat": 4,
 "nbformat_minor": 1
}
