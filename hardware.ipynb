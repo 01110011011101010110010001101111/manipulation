{
  "nbformat": 4,
  "nbformat_minor": 0,
  "metadata": {
    "kernelspec": {
      "display_name": "Python 3",
      "language": "python",
      "name": "python3"
    },
    "language_info": {
      "codemirror_mode": {
        "name": "ipython",
        "version": 3
      },
      "file_extension": ".py",
      "mimetype": "text/x-python",
      "name": "python",
      "nbconvert_exporter": "python",
      "pygments_lexer": "ipython3",
      "version": "3.8.3"
    },
    "colab": {
      "name": "Robotic Manipulation - Your Manipulation Hardware.ipynb",
      "provenance": [],
      "collapsed_sections": [],
      "toc_visible": true
    }
  },
  "cells": [
    {
      "cell_type": "markdown",
      "metadata": {
        "id": "EgiF12Hf1Dhs",
        "colab_type": "text"
      },
      "source": [
        "**I recommend you run the first code cell of this notebook immediately, to start provisioning drake on the cloud machine, then you can leave this window open as you [read the textbook](manipulation.csail.mit.edu/hardware.html).**\n",
        "\n",
        "# Notebook Setup\n",
        "\n",
        "The following cell will:\n",
        "- on Colab (only), install Drake to `/opt/drake`, install Drake's prerequisites via `apt`, and add pydrake to `sys.path`.  This will take approximately two minutes on the first time it runs (to provision the machine), but should only need to reinstall once every 12 hours.  If you navigate between notebooks using Colab's \"File->Open\" menu, then you can avoid provisioning a separate machine for each notebook.\n",
        "- define some utility methods/classes that will eventually disappear from this notebook and live in drake.\n",
        "- launch a server for our 3D visualizer (MeshCat) that will be used for the remainder of this notebook.\n",
        "\n",
        "You will need to rerun this cell if you restart the kernel, but it should be fast because the machine will already have drake installed."
      ]
    },
    {
      "cell_type": "code",
      "metadata": {
        "id": "eeMrMI0-1Dhu",
        "colab_type": "code",
        "colab": {}
      },
      "source": [
        "import importlib\n",
        "import sys\n",
        "from urllib.request import urlretrieve\n",
        "\n",
        "# Install drake.\n",
        "if 'google.colab' in sys.modules and importlib.util.find_spec('pydrake') is None:\n",
        "  urlretrieve(\"https://raw.githubusercontent.com/RobotLocomotion/drake/master/tools/install/colab/setup_drake_colab.py\",\n",
        "              \"setup_drake_colab.py\")\n",
        "  from setup_drake_colab import setup_drake\n",
        "  setup_drake(version='20200805', build='nightly') \n",
        "\n",
        "# Install pyngrok.\n",
        "server_args = []\n",
        "if 'google.colab' in sys.modules:\n",
        "  !pip install pyngrok\n",
        "  server_args = ['--ngrok_http_tunnel']\n",
        "\n",
        "# Start a single meshcat server instance to use for the remainder of this notebook.\n",
        "from meshcat.servers.zmqserver import start_zmq_server_as_subprocess\n",
        "proc, zmq_url, web_url = start_zmq_server_as_subprocess(server_args=server_args)\n",
        "\n",
        "# Helper methods that should get PR'd to drake.\n",
        "\n",
        "import asyncio\n",
        "import sys\n",
        "from IPython import get_ipython\n",
        "from warnings import warn\n",
        "\n",
        "\n",
        "# Note: The implementation below was inspired by\n",
        "# https://github.com/Kirill888/jupyter-ui-poll , though I suspect it can be\n",
        "# optimized.\n",
        "#\n",
        "# For reference,\n",
        "# https://ipywidgets.readthedocs.io/en/latest/examples/Widget%20Asynchronous.html  # noqa\n",
        "# describes the problem but it only offers the solution of using separate \n",
        "# threads for execution; a workflow that we do not wish to impose on users.\n",
        "\n",
        "def process_ipywidget_events(num_events_to_process=1):\n",
        "    \"\"\"\n",
        "    Allows the kernel to process GUI events.  This is required in order to\n",
        "    process ipywidget updates inside a simulation loop.\n",
        "    \"\"\"\n",
        "\n",
        "    shell = get_ipython()\n",
        "    # Ok to do nothing if running from console\n",
        "    if shell is None:\n",
        "        return\n",
        "    kernel = shell.kernel\n",
        "    events = []\n",
        "    kernel.shell_handlers['execute_request'] = lambda *e: events.append(e)\n",
        "    current_parent = (kernel._parent_ident, kernel._parent_header)\n",
        "\n",
        "    for _ in range(num_events_to_process):\n",
        "        # ensure stdout still happens in the same cell\n",
        "        kernel.set_parent(*current_parent)\n",
        "        kernel.do_one_iteration()\n",
        "        kernel.set_parent(*current_parent)\n",
        "\n",
        "    kernel.shell_handlers['execute_request'] = kernel.execute_request\n",
        "\n",
        "    def _replay_events(shell, events):\n",
        "        kernel = shell.kernel\n",
        "        sys.stdout.flush()\n",
        "        sys.stderr.flush()\n",
        "        for stream, ident, parent in events:\n",
        "            kernel.set_parent(ident, parent)\n",
        "            if kernel._aborting:\n",
        "                kernel._send_abort_reply(stream, parent, ident)\n",
        "            else:\n",
        "                kernel.execute_request(stream, ident, parent)\n",
        "\n",
        "    if len(events) > 0:\n",
        "        loop = asyncio.get_event_loop()\n",
        "        if loop.is_running():\n",
        "            loop.call_soon(lambda: _replay_events(shell, events))\n",
        "        else:\n",
        "            warn('Automatic execution of scheduled cells only works with '\n",
        "                'asyncio-based ipython')\n",
        "\n",
        "\n",
        "import numpy as np\n",
        "from IPython.display import display\n",
        "from ipywidgets import FloatSlider, Layout\n",
        "from pydrake.multibody.tree import JointIndex\n",
        "from pydrake.systems.framework import VectorSystem\n",
        "\n",
        "class JointSliders(VectorSystem):\n",
        "    \"\"\"\n",
        "    Provides a simple ipywidgets gui with one slider per joint of the\n",
        "    MultibodyPlant.  Any positions that are not associated with joints (e.g.\n",
        "    floating-base \"mobilizers\") are held constant at the default value\n",
        "    obtained from robot.CreateDefaultContext().\n",
        "\n",
        "    System YAML\n",
        "        name: JointSliders\n",
        "        output_ports:\n",
        "        - positions\n",
        "    \"\"\"\n",
        "\n",
        "    def __init__(self, robot, lower_limit=-10., upper_limit=10.,\n",
        "                 resolution=0.01, length=200, update_period_sec=0.005):\n",
        "        \"\"\"\"\n",
        "        Args:\n",
        "            robot:       A MultibodyPlant.\n",
        "            lower_limit: A scalar or vector of length robot.num_positions().\n",
        "                         The lower limit of the slider will be the maximum\n",
        "                         value of this number and any limit specified in the\n",
        "                         Joint.\n",
        "            upper_limit: A scalar or vector of length robot.num_positions().\n",
        "                         The upper limit of the slider will be the minimum\n",
        "                         value of this number and any limit specified in the\n",
        "                         Joint.\n",
        "            resolution:  A scalar or vector of length robot.num_positions()\n",
        "                         that specifies the discretization of the slider.\n",
        "            length:      The length of the sliders (passed as an argument to\n",
        "                         tk.Scale).\n",
        "            update_period_sec: Specifies how often the window update() method\n",
        "                         gets called.\n",
        "        \"\"\"\n",
        "        VectorSystem.__init__(self, 0, robot.num_positions())\n",
        "\n",
        "        def _reshape(x, num):\n",
        "            x = np.array(x)\n",
        "            assert len(x.shape) <= 1\n",
        "            return np.array(x) * np.ones(num)\n",
        "\n",
        "        lower_limit = _reshape(lower_limit, robot.num_positions())\n",
        "        upper_limit = _reshape(upper_limit, robot.num_positions())\n",
        "        resolution = _reshape(resolution, robot.num_positions())\n",
        "\n",
        "        # Schedule window updates in either case (new or existing window):\n",
        "        self.DeclarePeriodicPublish(update_period_sec, 0.0)\n",
        "\n",
        "        self._slider = []\n",
        "        self._slider_position_start = []\n",
        "        context = robot.CreateDefaultContext()\n",
        "        state = robot.GetPositionsAndVelocities(context)\n",
        "        self._default_position = state[:robot.num_positions()]\n",
        "\n",
        "        k = 0\n",
        "        for i in range(0, robot.num_joints()):\n",
        "            joint = robot.get_joint(JointIndex(i))\n",
        "            low = joint.position_lower_limits()\n",
        "            upp = joint.position_upper_limits()\n",
        "            for j in range(0, joint.num_positions()):\n",
        "                self._slider_position_start.append(joint.position_start() + j)\n",
        "                self._slider.append(FloatSlider(min=max(low[j],\n",
        "                                                       lower_limit[k]),\n",
        "                                max=min(upp[j], upper_limit[k]),\n",
        "                                step=resolution[k],\n",
        "                                continuous_update=True,\n",
        "                                description=joint.name(),\n",
        "                                style = {'description_width': 'initial'},\n",
        "                                layout=Layout(width=f\"'{length}'\")))\n",
        "                display(self._slider[k])\n",
        "                k += 1\n",
        "\n",
        "    def set_position(self, q):\n",
        "        \"\"\"\n",
        "        Set all robot positions (corresponding to joint positions and\n",
        "        potentially positions not associated with any joint) to the\n",
        "        values in q.\n",
        "\n",
        "        Args:\n",
        "            q: a vector whose length is robot.num_positions().\n",
        "        \"\"\"\n",
        "        self._default_position = q\n",
        "        for i in range(len(self._slider)):\n",
        "            self._slider[i].value = q[self._slider_position_start[i]]\n",
        "\n",
        "    def set_joint_position(self, q):\n",
        "        \"\"\"\n",
        "        Set the slider positions to the values in q.\n",
        "\n",
        "        Args:\n",
        "            q: a vector whose length is the same as the number of joint\n",
        "            positions (also the number of sliders) for the robot.\n",
        "        \"\"\"\n",
        "        assert(len(q) == len(self._default_position))\n",
        "        for i in range(len(self._slider)):\n",
        "            self._slider[i].value = q[i]\n",
        "\n",
        "    def DoPublish(self, context, event):\n",
        "        process_ipywidget_events()\n",
        "\n",
        "    def DoCalcVectorOutput(self, context, unused, unused2, output):\n",
        "        output[:] = self._default_position\n",
        "        for i in range(0, len(self._slider)):\n",
        "            output[self._slider_position_start[i]] = self._slider[i].value\n"
      ],
      "execution_count": null,
      "outputs": []
    },
    {
      "cell_type": "markdown",
      "metadata": {
        "id": "wJWL-ldv5REK",
        "colab_type": "text"
      },
      "source": [
        "# Robot Arms\n",
        "\n",
        "The next two cells will give you a simple interface to move the joints around on a variety of robot arm models.\n",
        "\n",
        "Have a favorite robot that I haven't included here?  If you send me a link to a properly licensed URDF or SDF description of the robot and it's mesh files, I'm happy to add it!\n",
        "\n",
        "Note: The Jaco doesn't visualize properly in this renderer yet.  See drake issue [#13846](https://github.com/RobotLocomotion/drake/issues/13846)."
      ]
    },
    {
      "cell_type": "code",
      "metadata": {
        "id": "wlN0Twwr5rYS",
        "colab_type": "code",
        "colab": {}
      },
      "source": [
        "from IPython.display import display\n",
        "from ipywidgets import Dropdown, Layout\n",
        "from pydrake.common import FindResourceOrThrow\n",
        "\n",
        "arm_selector = Dropdown(options=[\"Kuka LBR iiwa 7\",\n",
        "                        \"Kuka LBR iiwa 14\",\n",
        "                        \"Franka Emika Panda\",\n",
        "                        \"Kinova Jaco Gen2 (7 DoF)\"],\n",
        "               description=\"Choose your robot arm\",\n",
        "               style = {'description_width': 'initial'})\n",
        "display(arm_selector)\n",
        "\n",
        "def get_model_file(description):\n",
        "  # Note: I could download remote model resources here if necessary.\n",
        "  if description == \"Kuka LBR iiwa 7\":\n",
        "    return FindResourceOrThrow(\"drake/manipulation/models/iiwa_description/iiwa7/iiwa7_no_collision.sdf\")\n",
        "  elif description == \"Kuka LBR iiwa 14\":\n",
        "    return FindResourceOrThrow(\"drake/manipulation/models/iiwa_description/sdf/iiwa14_no_collision.sdf\")\n",
        "  elif description == \"Franka Emika Panda\":\n",
        "    return FindResourceOrThrow(\"drake/manipulation/models/franka_description/urdf/panda_arm_hand.urdf\")\n",
        "  elif description == \"Kinova Jaco Gen2 (7 DoF)\":\n",
        "    return FindResourceOrThrow(\"drake/manipulation/models/jaco_description/urdf/j2s7s300.urdf\")\n",
        "  raise Exception(\"Unknown model\")\n"
      ],
      "execution_count": null,
      "outputs": []
    },
    {
      "cell_type": "code",
      "metadata": {
        "id": "91-Eh5IB9Se3",
        "colab_type": "code",
        "colab": {}
      },
      "source": [
        "from IPython.display import display\n",
        "from ipywidgets import ToggleButton\n",
        "import numpy as np\n",
        "from pydrake.all import (\n",
        "    DiagramBuilder, SceneGraph, MultibodyPlant, MultibodyPositionToGeometryPose, \n",
        "    ConnectMeshcatVisualizer, Parser, Simulator)\n",
        "\n",
        "builder = DiagramBuilder()\n",
        "scene_graph = builder.AddSystem(SceneGraph())\n",
        "plant = MultibodyPlant(time_step=0.0)\n",
        "plant.RegisterAsSourceForSceneGraph(scene_graph)\n",
        "Parser(plant, scene_graph).AddModelFromFile(get_model_file(arm_selector.value))\n",
        "plant.Finalize()\n",
        "\n",
        "# Add sliders to set positions of the joints.\n",
        "sliders = builder.AddSystem(JointSliders(robot=plant))\n",
        "to_pose = builder.AddSystem(MultibodyPositionToGeometryPose(plant))\n",
        "builder.Connect(sliders.get_output_port(0), to_pose.get_input_port())\n",
        "builder.Connect(\n",
        "    to_pose.get_output_port(),\n",
        "    scene_graph.get_source_pose_port(plant.get_source_id()))\n",
        "\n",
        "ConnectMeshcatVisualizer(builder, scene_graph, zmq_url=zmq_url)\n",
        "\n",
        "# Make the diagram and run it.\n",
        "diagram = builder.Build()\n",
        "simulator = Simulator(diagram)\n",
        "\n",
        "simulator.set_target_realtime_rate(1.0)\n",
        "\n",
        "stop_button = ToggleButton(value=False, description='Stop Simulation')\n",
        "display(stop_button)\n",
        "while not stop_button.value:\n",
        "  simulator.AdvanceTo(simulator.get_context().get_time() + 5.0)\n",
        "stop_button.value = False"
      ],
      "execution_count": null,
      "outputs": []
    },
    {
      "cell_type": "markdown",
      "metadata": {
        "id": "nPy2VgSH1Dh5",
        "colab_type": "text"
      },
      "source": [
        "# Simulation with Block Diagrams\n",
        "\n",
        "In this chapter, and throughout the notes, we will be building up our simulations and controllers using drake's block diagram modeling language (we call it the \"systems framework\").  [This tutorial](https://mybinder.org/v2/gh/RobotLocomotion/drake/nightly-release?filepath=tutorials/dynamical_systems.ipynb)  provides a brief introduction.  \n"
      ]
    },
    {
      "cell_type": "markdown",
      "metadata": {
        "id": "Dl9NDxDR1Dh6",
        "colab_type": "text"
      },
      "source": [
        "# MultibodyPlant and SceneGraph\n",
        "\n",
        "The first thing we need in most simulations for manipulation is our model of the world.  In drake, we will model the world using two systems: [MultibodyPlant](https://drake.mit.edu/doxygen_cxx/classdrake_1_1multibody_1_1_multibody_plant.html) (the physics engine) and [SceneGraph](https://drake.mit.edu/doxygen_cxx/classdrake_1_1geometry_1_1_scene_graph.html) (the geometry engine).  These systems are kept logically separate for a reason; in many applications (like autonomous driving) we want all of the collision detection / rendering features of the geometry engine, but want to supply our own simple models for the dynamics.  But in these notes, we will almost always use them together.  \n",
        "\n",
        "Let's start by adding just a single object into the world."
      ]
    },
    {
      "cell_type": "code",
      "metadata": {
        "id": "DyfpxsGR1Dh6",
        "colab_type": "code",
        "colab": {}
      },
      "source": [
        "from pydrake.all import (\n",
        "    AddMultibodyPlantSceneGraph, DiagramBuilder, FindResourceOrThrow,\n",
        "    Parser\n",
        ")\n",
        "\n",
        "builder = DiagramBuilder()\n",
        "plant, scene_graph = AddMultibodyPlantSceneGraph(builder, time_step=1e-4)\n",
        "Parser(plant, scene_graph).AddModelFromFile(\n",
        "        FindResourceOrThrow(\n",
        "            \"drake/manipulation/models/ycb/sdf/006_mustard_bottle.sdf\"))\n",
        "plant.Finalize()\n"
      ],
      "execution_count": null,
      "outputs": []
    },
    {
      "cell_type": "markdown",
      "metadata": {
        "id": "8ZKEl1QU1Dh9",
        "colab_type": "text"
      },
      "source": [
        "# 3D visualization\n",
        "\n",
        "In order to view the world, we need to add a visualizer.  We support a number of visualizers in drake (and even ship a simple VTK-based \"drake-visualizer\" with our binary releases).  But because we're working in a jupyter notebook, and want you to be able to run 3d graphics on any machine without any installation required, we'll use the [MeshCat](https://github.com/rdeits/meshcat) visualizer throughout these notes.  \n",
        "\n",
        "Let's create the visualizer and add it to our diagram."
      ]
    },
    {
      "cell_type": "code",
      "metadata": {
        "id": "WkfjAgrL1Dh-",
        "colab_type": "code",
        "colab": {}
      },
      "source": [
        "from pydrake.all import ConnectMeshcatVisualizer\n",
        "\n",
        "meshcat = ConnectMeshcatVisualizer(builder, scene_graph)"
      ],
      "execution_count": null,
      "outputs": []
    },
    {
      "cell_type": "markdown",
      "metadata": {
        "id": "Rm4kVRMS1DiF",
        "colab_type": "text"
      },
      "source": [
        "If you click on the link above, you can open a new browser window to see the visualization.\n",
        "\n",
        "But the scene will be empty so far.  We need to actually construct the diagram and ask it to publish.  (MeshcatVisualizer will automatically publish on a fixed period during simulation)."
      ]
    },
    {
      "cell_type": "code",
      "metadata": {
        "id": "2YMNZBi11DiN",
        "colab_type": "code",
        "colab": {}
      },
      "source": [
        "diagram = builder.Build()\n",
        "context = diagram.CreateDefaultContext()\n",
        "diagram.Publish(context)"
      ],
      "execution_count": null,
      "outputs": []
    },
    {
      "cell_type": "markdown",
      "metadata": {
        "id": "UtBs0m8k1DiR",
        "colab_type": "text"
      },
      "source": [
        " # Simulating RGB-D cameras\n",
        "\n",
        "The 3D visualization is mean for the user.  But we want a similar tool that can model what a camera at a known position in the environment would see.  "
      ]
    },
    {
      "cell_type": "code",
      "metadata": {
        "id": "877lsn0_1DiS",
        "colab_type": "code",
        "colab": {}
      },
      "source": [
        ""
      ],
      "execution_count": null,
      "outputs": []
    },
    {
      "cell_type": "markdown",
      "metadata": {
        "id": "7gkXspPq1DiW",
        "colab_type": "text"
      },
      "source": [
        "As we will see later, we can also render the output of these cameras as a point cloud.\n",
        "\n",
        "# Adding a robot (and its low-level controller)\n"
      ]
    },
    {
      "cell_type": "code",
      "metadata": {
        "id": "HKv4MzW-1DiX",
        "colab_type": "code",
        "colab": {}
      },
      "source": [
        "\n"
      ],
      "execution_count": null,
      "outputs": []
    },
    {
      "cell_type": "markdown",
      "metadata": {
        "id": "Z3O_UIg81Dik",
        "colab_type": "text"
      },
      "source": [
        "# Running the simulation."
      ]
    },
    {
      "cell_type": "code",
      "metadata": {
        "id": "FIC_nW2c1Dim",
        "colab_type": "code",
        "colab": {}
      },
      "source": [
        ""
      ],
      "execution_count": null,
      "outputs": []
    },
    {
      "cell_type": "markdown",
      "metadata": {
        "id": "kPcyp3zv1Dir",
        "colab_type": "text"
      },
      "source": [
        "We've put together quite a complex system now.  Let's make sure we understand the diagram that we've built by visualizing the resulting block diagram."
      ]
    },
    {
      "cell_type": "code",
      "metadata": {
        "id": "XTeyZc7n1Dit",
        "colab_type": "code",
        "colab": {}
      },
      "source": [
        "from IPython.display import HTML\n",
        "\n",
        "#HTML(GenerateHtml(diagram))"
      ],
      "execution_count": null,
      "outputs": []
    },
    {
      "cell_type": "code",
      "metadata": {
        "id": "igW_0Pj71Di8",
        "colab_type": "code",
        "colab": {}
      },
      "source": [
        ""
      ],
      "execution_count": null,
      "outputs": []
    }
  ]
}