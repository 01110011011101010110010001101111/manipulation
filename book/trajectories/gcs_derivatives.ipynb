{
 "cells": [
  {
   "cell_type": "code",
   "execution_count": null,
   "id": "c8b13b5b",
   "metadata": {
    "lines_to_end_of_cell_marker": 2
   },
   "outputs": [],
   "source": [
    "import numpy as np\n",
    "import pydot\n",
    "from IPython.display import SVG, display\n",
    "from matplotlib import gridspec\n",
    "from matplotlib import pyplot as plt\n",
    "from pydrake.geometry.optimization import GraphOfConvexSetsOptions, HPolyhedron, Point\n",
    "from pydrake.planning import GcsTrajectoryOptimization"
   ]
  },
  {
   "cell_type": "markdown",
   "id": "dbc32a9c",
   "metadata": {},
   "source": [
    "# GCS Trajectory Optimization with Derivative Constraints\n",
    "\n",
    "GCS Trajectory Optimization provides a powerful tool for obtaining globally-optimal solution. With the more powerful solver, you might have be a bit more careful what you wish for! In particular, the interplay between shortest paths and derivative constraints can be quite subtle. This simple notebook tries to make that point.\n",
    "\n",
    "Consider a very simple GCSTrajOpt problem with (effectively) two regions -- one to the left of the origin (in light blue), and one to the right of the origin (light green). We'll put the start at the bottom left, the goal at the bottom right, and use an edge constraint to ensure that the trajectory passes through the origin."
   ]
  },
  {
   "cell_type": "code",
   "execution_count": null,
   "id": "7f18fb61",
   "metadata": {},
   "outputs": [],
   "source": [
    "def PlotEnvironment():\n",
    "    plt.axis(\"square\")\n",
    "    plt.fill([-1, 0, 0, -1], [-1, -1, 1, 1], \"lightblue\", alpha=0.5)\n",
    "    plt.fill([0, 1, 1, 0], [-1, -1, 1, 1], \"lightgreen\", alpha=0.5)\n",
    "    plt.plot([-1, 0, 1], [-1, 0, -1], \"r*\")\n",
    "    plt.xlim([-1.25, 1.25])\n",
    "    plt.ylim([-1.25, 1.25])\n",
    "    plt.xlabel(\"x\")\n",
    "    plt.ylabel(\"y\")\n",
    "    plt.xticks()\n",
    "    plt.yticks()\n",
    "    plt.grid(1)\n",
    "\n",
    "\n",
    "def PlotSolution(traj, result):\n",
    "    assert result.is_success()\n",
    "\n",
    "    gs = gridspec.GridSpec(2, 1, height_ratios=[4, 1])  # 4:1 ratio for height\n",
    "    plt.subplot(gs[0])\n",
    "    PlotEnvironment()\n",
    "\n",
    "    plt.plot(*traj.value(traj.start_time()), \"kx\")\n",
    "    plt.plot(*traj.value(traj.end_time()), \"kx\")\n",
    "    times = np.linspace(traj.start_time(), traj.end_time(), 1000)\n",
    "    waypoints = traj.vector_values(times)\n",
    "    plt.plot(*waypoints, \"b\", zorder=5)\n",
    "    for seg in [traj.segment(i) for i in range(traj.get_number_of_segments())]:\n",
    "        plt.plot(seg.control_points()[0], seg.control_points()[1], \"ro\")\n",
    "\n",
    "    plt.subplot(gs[1])\n",
    "    plt.plot(times, waypoints.T)\n",
    "    plt.xlabel(\"time (s)\")\n",
    "    plt.legend([\"x\", \"y\"])\n",
    "\n",
    "\n",
    "PlotEnvironment()\n",
    "\n",
    "\n",
    "def AddRegionsAndEdges(trajopt, order=4):\n",
    "    left = trajopt.AddRegions(\n",
    "        [HPolyhedron.MakeBox([-1, -1], [0, 1])], order=order, name=\"left\"\n",
    "    )\n",
    "    right = trajopt.AddRegions(\n",
    "        [HPolyhedron.MakeBox([0, -1], [1, 1])], order=order, name=\"right\"\n",
    "    )\n",
    "    source = trajopt.AddRegions([Point([-1, -1])], order=0, name=\"source\")\n",
    "    target = trajopt.AddRegions([Point([1, -1])], order=0, name=\"target\")\n",
    "    trajopt.AddEdges(source, left)\n",
    "    trajopt.AddEdges(right, target)\n",
    "    e = trajopt.AddEdges(left, right).Edges()[0]\n",
    "    e.AddConstraint(e.xu()[-2] == 0).evaluator().set_description(\n",
    "        \"left-right edge: y = 0\"\n",
    "    )\n",
    "    return source, left, right, target\n",
    "\n",
    "\n",
    "trajopt = GcsTrajectoryOptimization(2)\n",
    "source, left, right, target = AddRegionsAndEdges(trajopt, order=4)\n",
    "\n",
    "display(\n",
    "    SVG(\n",
    "        pydot.graph_from_dot_data(trajopt.graph_of_convex_sets().GetGraphvizString())[\n",
    "            0\n",
    "        ].create_svg()\n",
    "    )\n",
    ")"
   ]
  },
  {
   "cell_type": "markdown",
   "id": "9ab2e4cb",
   "metadata": {},
   "source": [
    "## Minimum distance, no derivative constraints\n",
    "\n",
    "Naturally, the shortest path given this setup is the straight line from the start to the origin, then the origin to the goal. Solving GcsTrajOpt without any derivative constraints recovers this solution."
   ]
  },
  {
   "cell_type": "code",
   "execution_count": null,
   "id": "b2c67211",
   "metadata": {},
   "outputs": [],
   "source": [
    "trajopt = GcsTrajectoryOptimization(2)\n",
    "source, left, right, target = AddRegionsAndEdges(trajopt, order=4)\n",
    "\n",
    "trajopt.AddPathLengthCost()\n",
    "[traj, result] = trajopt.SolvePath(source, target)\n",
    "\n",
    "PlotSolution(traj, result)"
   ]
  },
  {
   "cell_type": "markdown",
   "id": "9931b57d",
   "metadata": {},
   "source": [
    "Notice the time duration in the solution. Why did it choose that for the time duration? Our problem formulation so far has underspecified the timing. It could be infinitely fast or infinitely slow.  This can lead to strange numerical artifacts. An alternative formulation would be to solve for minimum time, subject to some velocity bounds.\n",
    "\n",
    "## Minimum distance, with velocity limits"
   ]
  },
  {
   "cell_type": "code",
   "execution_count": null,
   "id": "e31da5d6",
   "metadata": {},
   "outputs": [],
   "source": [
    "trajopt = GcsTrajectoryOptimization(2)\n",
    "source, left, right, target = AddRegionsAndEdges(trajopt, order=4)\n",
    "\n",
    "trajopt.AddPathLengthCost()\n",
    "trajopt.AddVelocityBounds([-1, -1], [1, 1])\n",
    "[traj, result] = trajopt.SolvePath(source, target)\n",
    "\n",
    "PlotSolution(traj, result)"
   ]
  },
  {
   "cell_type": "markdown",
   "id": "6bd03129",
   "metadata": {},
   "source": [
    "## Minimum time, with velocity limits"
   ]
  },
  {
   "cell_type": "code",
   "execution_count": null,
   "id": "3c6d7f60",
   "metadata": {},
   "outputs": [],
   "source": [
    "trajopt = GcsTrajectoryOptimization(2)\n",
    "source, left, right, target = AddRegionsAndEdges(trajopt, order=4)\n",
    "\n",
    "trajopt.AddVelocityBounds([-1, -1], [1, 1])\n",
    "trajopt.AddTimeCost()\n",
    "[traj, result] = trajopt.SolvePath(source, target)\n",
    "\n",
    "PlotSolution(traj, result)"
   ]
  },
  {
   "cell_type": "markdown",
   "id": "14d3b762",
   "metadata": {},
   "source": [
    "## Minimum time, velocity limits and C(1) continuity"
   ]
  },
  {
   "cell_type": "code",
   "execution_count": null,
   "id": "b68f8f5b",
   "metadata": {},
   "outputs": [],
   "source": [
    "trajopt = GcsTrajectoryOptimization(2)\n",
    "source, left, right, target = AddRegionsAndEdges(trajopt, order=4)\n",
    "\n",
    "trajopt.AddVelocityBounds([-1, -1], [1, 1])\n",
    "trajopt.AddContinuityConstraints(continuity_order=1)\n",
    "trajopt.AddTimeCost()\n",
    "[traj, result] = trajopt.SolvePath(source, target)\n",
    "\n",
    "PlotSolution(traj, result)"
   ]
  },
  {
   "cell_type": "markdown",
   "id": "355f30ce",
   "metadata": {},
   "source": [
    "Now here's the tricky one.  If you ask for minimum distance + continuity constraints, you might be surprised with what you get.\n",
    "\n",
    "## Minimum distance with C(1) continuity"
   ]
  },
  {
   "cell_type": "code",
   "execution_count": null,
   "id": "e9341a84",
   "metadata": {},
   "outputs": [],
   "source": [
    "trajopt = GcsTrajectoryOptimization(2)\n",
    "source, left, right, target = AddRegionsAndEdges(trajopt, order=4)\n",
    "\n",
    "trajopt.AddVelocityBounds([-1, -1], [1, 1])\n",
    "trajopt.AddContinuityConstraints(continuity_order=1)\n",
    "trajopt.AddPathLengthCost()\n",
    "options = GraphOfConvexSetsOptions()\n",
    "# NOTE: I have to disable rounding... otherwise SNOPT will fail.\n",
    "options.max_rounded_paths = 0\n",
    "[traj, result] = trajopt.SolvePath(source, target, options)\n",
    "\n",
    "PlotSolution(traj, result)"
   ]
  },
  {
   "cell_type": "markdown",
   "id": "5bd29899",
   "metadata": {},
   "source": [
    "The solution in time looks reasonable. The solution in x-y looks a little surprising... that doesn't look like a smooth curve?  What's going on here?\n",
    "The optimal solution puts multiple control points immediately on top of each other. So the velocity is continuous in time, but could change very rapidly in space. Adding higher derivative limits does not help... the trajectory can slow down in time, but still change direction very rapidly in space in order minimize the distance.\n",
    "\n",
    "This feels like a bad formulation... it drives the solver towards a solution that is numerically bad. In fact, SNOPT fails to solve it... so I've actually had to disable the rounding step in the code cell above.\n",
    "\n",
    "## Takeaways\n",
    "\n",
    "Be careful with your formulation. If your optimal solution is arbitrarily bad numerically, then you might need to rethink your formulation."
   ]
  },
  {
   "cell_type": "markdown",
   "id": "a609b884",
   "metadata": {},
   "source": []
  }
 ],
 "metadata": {
  "kernelspec": {
   "display_name": "Python 3",
   "language": "python",
   "name": "python3"
  },
  "language_info": {
   "codemirror_mode": {
    "name": "ipython",
    "version": 3
   },
   "file_extension": ".py",
   "mimetype": "text/x-python",
   "name": "python",
   "nbconvert_exporter": "python",
   "pygments_lexer": "ipython3",
   "version": "3.10.12"
  }
 },
 "nbformat": 4,
 "nbformat_minor": 5
}
