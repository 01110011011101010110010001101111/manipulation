{
  "nbformat": 4,
  "nbformat_minor": 0,
  "metadata": {
    "kernelspec": {
      "display_name": "Python 3",
      "language": "python",
      "name": "python3"
    },
    "language_info": {
      "codemirror_mode": {
        "name": "ipython",
        "version": 3
      },
      "file_extension": ".py",
      "mimetype": "text/x-python",
      "name": "python",
      "nbconvert_exporter": "python",
      "pygments_lexer": "ipython3",
      "version": "3.8.3"
    },
    "colab": {
      "name": "Robotic Manipulation - Let's get you a robot.ipynb",
      "provenance": [],
      "collapsed_sections": [],
      "toc_visible": true
    }
  },
  "cells": [
    {
      "cell_type": "markdown",
      "metadata": {
        "id": "EgiF12Hf1Dhs",
        "colab_type": "text"
      },
      "source": [
        "**I recommend you run the first code cell of this notebook immediately, to start provisioning drake on the cloud machine, then you can leave this window open as you [read the textbook](manipulation.csail.mit.edu/robot.html).**\n",
        "\n",
        "# Notebook setup\n",
        "\n",
        "The following cell will:\n",
        "- on Colab (only), install Drake to `/opt/drake`, install Drake's prerequisites via `apt`, and add pydrake to `sys.path`.  This will take approximately two minutes on the first time it runs (to provision the machine), but should only need to reinstall once every 12 hours.  If you navigate between notebooks using Colab's \"File->Open\" menu, then you can avoid provisioning a separate machine for each notebook.\n",
        "- launch a server for our 3D visualizer (MeshCat) that will be used for the remainder of this notebook.\n",
        "\n",
        "You will need to rerun this cell if you restart the kernel, but it should be fast because the machine will already have drake installed."
      ]
    },
    {
      "cell_type": "code",
      "metadata": {
        "id": "eeMrMI0-1Dhu",
        "colab_type": "code",
        "colab": {}
      },
      "source": [
        "import importlib\n",
        "import sys\n",
        "from urllib.request import urlretrieve\n",
        "\n",
        "# Install drake.\n",
        "if 'google.colab' in sys.modules and importlib.util.find_spec('pydrake') is None:\n",
        "  urlretrieve(\"https://raw.githubusercontent.com/RobotLocomotion/drake/master/tools/install/colab/setup_drake_colab.py\",\n",
        "              \"setup_drake_colab.py\")\n",
        "  from setup_drake_colab import setup_drake\n",
        "  setup_drake(version='20200821', build='nightly') \n",
        "\n",
        "# Install pyngrok.\n",
        "server_args = []\n",
        "if 'google.colab' in sys.modules:\n",
        "  !pip install pyngrok\n",
        "  server_args = ['--ngrok_http_tunnel']\n",
        "\n",
        "# Start a single meshcat server instance to use for the remainder of this notebook.\n",
        "from meshcat.servers.zmqserver import start_zmq_server_as_subprocess\n",
        "proc, zmq_url, web_url = start_zmq_server_as_subprocess(server_args=server_args)\n",
        "\n",
        "# The remaining code will be upstreamed to drake.  drake issue #13918.\n",
        "import numpy as np\n",
        "\n",
        "from ipywidgets import FloatSlider, Layout\n",
        "\n",
        "from pydrake.common.jupyter import process_ipywidget_events\n",
        "from pydrake.multibody.tree import JointIndex\n",
        "from pydrake.systems.framework import BasicVector, VectorSystem\n",
        "\n",
        "\n",
        "class JointSliders(VectorSystem):\n",
        "    \"\"\"\n",
        "    Provides a simple ipywidgets gui with one slider per joint of the\n",
        "    MultibodyPlant.  Any positions that are not associated with joints (e.g.\n",
        "    floating-base \"mobilizers\") are held constant at the default value\n",
        "    obtained from robot.CreateDefaultContext().\n",
        "\n",
        "    System YAML\n",
        "        name: JointSliders\n",
        "        output_ports:\n",
        "        - positions\n",
        "    \"\"\"\n",
        "\n",
        "    def __init__(self, robot, lower_limit=-10., upper_limit=10.,\n",
        "                 resolution=0.01, length=200, update_period_sec=0.005):\n",
        "        \"\"\"\"\n",
        "        Args:\n",
        "            robot:       A MultibodyPlant.\n",
        "            lower_limit: A scalar or vector of length robot.num_positions().\n",
        "                         The lower limit of the slider will be the maximum\n",
        "                         value of this number and any limit specified in the\n",
        "                         Joint.\n",
        "            upper_limit: A scalar or vector of length robot.num_positions().\n",
        "                         The upper limit of the slider will be the minimum\n",
        "                         value of this number and any limit specified in the\n",
        "                         Joint.\n",
        "            resolution:  A scalar or vector of length robot.num_positions()\n",
        "                         that specifies the discretization of the slider.\n",
        "            length:      The length of the sliders.\n",
        "            update_period_sec: Specifies how often the window update() method\n",
        "                         gets called.\n",
        "        \"\"\"\n",
        "        VectorSystem.__init__(self, 0, robot.num_positions())\n",
        "\n",
        "        # The widgets themselves have undeclared state.  For now, we accept it,\n",
        "        # and simply disable caching on the output port.\n",
        "        self.get_output_port(0).disable_caching_by_default()\n",
        "\n",
        "        def _reshape(x, num):\n",
        "            x = np.array(x)\n",
        "            assert len(x.shape) <= 1\n",
        "            return np.array(x) * np.ones(num)\n",
        "\n",
        "        lower_limit = _reshape(lower_limit, robot.num_positions())\n",
        "        upper_limit = _reshape(upper_limit, robot.num_positions())\n",
        "        resolution = _reshape(resolution, robot.num_positions())\n",
        "\n",
        "        # Schedule window updates in either case (new or existing window):\n",
        "        self.DeclarePeriodicPublish(update_period_sec, 0.0)\n",
        "\n",
        "        self._slider = []\n",
        "        self._slider_position_start = []\n",
        "        context = robot.CreateDefaultContext()\n",
        "        self._default_position = robot.GetPositions(context)\n",
        "\n",
        "        k = 0\n",
        "        for i in range(0, robot.num_joints()):\n",
        "            joint = robot.get_joint(JointIndex(i))\n",
        "            low = joint.position_lower_limits()\n",
        "            upp = joint.position_upper_limits()\n",
        "            for j in range(0, joint.num_positions()):\n",
        "                index = joint.position_start() + j\n",
        "                self._slider_position_start.append(index)\n",
        "                self._slider.append(\n",
        "                    FloatSlider(value=self._default_position[index],\n",
        "                                min=max(low[j], lower_limit[k]),\n",
        "                                max=min(upp[j], upper_limit[k]),\n",
        "                                step=resolution[k],\n",
        "                                continuous_update=True,\n",
        "                                description=joint.name(),\n",
        "                                style={'description_width': 'initial'},\n",
        "                                layout=Layout(width=f\"'{length}'\")))\n",
        "                display(self._slider[k])\n",
        "                k += 1\n",
        "\n",
        "    def set_positions(self, q):\n",
        "        \"\"\"\n",
        "        Set all robot positions; comparable to MultibodyPlant.SetPositions.\n",
        "        Note that we only have sliders for joint positions, but the\n",
        "        MultibodyPlant positions many include non-joint positions.  For\n",
        "        example, models have a floating-base mobilizer by default (unless the\n",
        "        MultibodyPlant explicitly welds the base to the world), and so have 7\n",
        "        positions corresponding to the quaternion representation of that\n",
        "        floating-base position, but not to any joint.\n",
        "\n",
        "        Args:\n",
        "            q: a vector whose length is robot.num_positions().\n",
        "        \"\"\"\n",
        "        self._default_position[:] = q\n",
        "        for i in range(len(self._slider)):\n",
        "            self._slider[i].value = q[self._slider_position_start[i]]\n",
        "\n",
        "    def set_joint_positions(self, q):\n",
        "        \"\"\"\n",
        "        Set the slider positions to the values in q.  A list of positions which\n",
        "        must be the same length as the number of positions ASSOCIATED WITH\n",
        "        JOINTS in the MultibodyPlant.  This does not include, e.g.,\n",
        "        floating-base coordinates, which will be assigned a default value.\n",
        "\n",
        "        Args:\n",
        "            q: a vector whose length is the same as the number of joint\n",
        "            positions (also the number of sliders) for the robot.\n",
        "        \"\"\"\n",
        "        assert(len(q) == len(self._slider))\n",
        "        for i in range(len(self._slider)):\n",
        "            self._slider[i].value = q[i]\n",
        "\n",
        "    def DoPublish(self, context, event):\n",
        "        process_ipywidget_events()\n",
        "\n",
        "    def DoCalcVectorOutput(self, context, unused, unused2, output):\n",
        "        output[:] = self._default_position\n",
        "        for i in range(0, len(self._slider)):\n",
        "            output[self._slider_position_start[i]] = self._slider[i].value\n",
        "\n"
      ],
      "execution_count": null,
      "outputs": []
    },
    {
      "cell_type": "markdown",
      "metadata": {
        "id": "wJWL-ldv5REK",
        "colab_type": "text"
      },
      "source": [
        "# Robot arms\n",
        "\n",
        "The next two cells will give you a simple interface to move the joints around on a variety of robot arm models.\n",
        "\n",
        "Have a favorite robot that I haven't included here?  If you send me a link to a properly licensed URDF or SDF description of the robot and it's mesh files, I'm happy to add it!\n",
        "\n",
        "Note: The Jaco doesn't visualize properly in this renderer yet.  See drake issue [#13846](https://github.com/RobotLocomotion/drake/issues/13846)."
      ]
    },
    {
      "cell_type": "code",
      "metadata": {
        "id": "wlN0Twwr5rYS",
        "colab_type": "code",
        "colab": {}
      },
      "source": [
        "from IPython.display import display\n",
        "from ipywidgets import Dropdown, Layout\n",
        "from pydrake.common import FindResourceOrThrow\n",
        "\n",
        "arm_selector = Dropdown(options=[\"Kuka LBR iiwa 7\",\n",
        "                        \"Kuka LBR iiwa 14\",\n",
        "                        \"Franka Emika Panda\",\n",
        "                        \"Kinova Jaco Gen2 (7 DoF)\"],\n",
        "               description=\"Choose your robot arm\",\n",
        "               style = {'description_width': 'initial'})\n",
        "display(arm_selector)\n",
        "\n",
        "def get_model_file(description):\n",
        "  # Note: I could download remote model resources here if necessary.\n",
        "  if description == \"Kuka LBR iiwa 7\":\n",
        "    return FindResourceOrThrow(\"drake/manipulation/models/iiwa_description/iiwa7/iiwa7_no_collision.sdf\")\n",
        "  elif description == \"Kuka LBR iiwa 14\":\n",
        "    return FindResourceOrThrow(\"drake/manipulation/models/iiwa_description/sdf/iiwa14_no_collision.sdf\")\n",
        "  elif description == \"Franka Emika Panda\":\n",
        "    return FindResourceOrThrow(\"drake/manipulation/models/franka_description/urdf/panda_arm_hand.urdf\")\n",
        "  elif description == \"Kinova Jaco Gen2 (7 DoF)\":\n",
        "    return FindResourceOrThrow(\"drake/manipulation/models/jaco_description/urdf/j2s7s300.urdf\")\n",
        "  raise Exception(\"Unknown model\")\n"
      ],
      "execution_count": null,
      "outputs": []
    },
    {
      "cell_type": "code",
      "metadata": {
        "id": "91-Eh5IB9Se3",
        "colab_type": "code",
        "colab": {}
      },
      "source": [
        "from IPython.display import display\n",
        "from ipywidgets import ToggleButton\n",
        "import numpy as np\n",
        "from pydrake.all import (\n",
        "    DiagramBuilder, SceneGraph, MultibodyPlant, MultibodyPositionToGeometryPose, \n",
        "    ConnectMeshcatVisualizer, Parser, Simulator)\n",
        "#from pydrake.multibody.jupyter_widgets import JointSliders\n",
        "\n",
        "builder = DiagramBuilder()\n",
        "scene_graph = builder.AddSystem(SceneGraph())\n",
        "plant = MultibodyPlant(time_step=0.0)\n",
        "plant.RegisterAsSourceForSceneGraph(scene_graph)\n",
        "Parser(plant, scene_graph).AddModelFromFile(get_model_file(arm_selector.value))\n",
        "plant.Finalize()\n",
        "\n",
        "# Add sliders to set positions of the joints.\n",
        "sliders = builder.AddSystem(JointSliders(robot=plant))\n",
        "to_pose = builder.AddSystem(MultibodyPositionToGeometryPose(plant))\n",
        "builder.Connect(sliders.get_output_port(0), to_pose.get_input_port())\n",
        "builder.Connect(\n",
        "    to_pose.get_output_port(),\n",
        "    scene_graph.get_source_pose_port(plant.get_source_id()))\n",
        "\n",
        "ConnectMeshcatVisualizer(builder, scene_graph, zmq_url=zmq_url)\n",
        "\n",
        "# Make the diagram and run it.\n",
        "diagram = builder.Build()\n",
        "simulator = Simulator(diagram)\n",
        "\n",
        "simulator.set_target_realtime_rate(1.0)\n",
        "\n",
        "stop_button = ToggleButton(value=False, description='Stop Simulation')\n",
        "display(stop_button)\n",
        "while not stop_button.value:\n",
        "  simulator.AdvanceTo(simulator.get_context().get_time() + 5.0)\n",
        "stop_button.value = False"
      ],
      "execution_count": null,
      "outputs": []
    },
    {
      "cell_type": "markdown",
      "metadata": {
        "id": "nPy2VgSH1Dh5",
        "colab_type": "text"
      },
      "source": [
        "# Simulation with block diagrams\n",
        "\n",
        "In this chapter, and throughout the notes, we will be building up our simulations and controllers using drake's block diagram modeling language (we call it the \"systems framework\").  [This tutorial](https://mybinder.org/v2/gh/RobotLocomotion/drake/nightly-release?filepath=tutorials/dynamical_systems.ipynb)  provides a brief introduction.  \n"
      ]
    },
    {
      "cell_type": "markdown",
      "metadata": {
        "id": "Dl9NDxDR1Dh6",
        "colab_type": "text"
      },
      "source": [
        "# Simulating the (passive) iiwa\n",
        "\n",
        "Let's load our robot of choice (the Kuka iiwa) into the physics engine, which we call [MultibodyPlant](https://drake.mit.edu/doxygen_cxx/classdrake_1_1multibody_1_1_multibody_plant.html).\n"
      ]
    },
    {
      "cell_type": "code",
      "metadata": {
        "id": "DyfpxsGR1Dh6",
        "colab_type": "code",
        "colab": {}
      },
      "source": [
        "import numpy as np\n",
        "from pydrake.all import (\n",
        "    MultibodyPlant, FindResourceOrThrow, Parser\n",
        ")\n",
        "\n",
        "plant = MultibodyPlant(time_step=1e-4)\n",
        "Parser(plant).AddModelFromFile(\n",
        "        FindResourceOrThrow(\"drake/manipulation/models/iiwa_description/sdf/iiwa14_no_collision.sdf\"))\n",
        "plant.WeldFrames(plant.world_frame(), plant.GetFrameByName(\"iiwa_link_0\"))\n",
        "plant.Finalize()"
      ],
      "execution_count": null,
      "outputs": []
    },
    {
      "cell_type": "markdown",
      "metadata": {
        "id": "H3G-pTB5bit8",
        "colab_type": "text"
      },
      "source": [
        "In Drake, we are very careful to separate the *state* of a system from the system itself.  For example, let's think of a dynamical system as given by the difference equation: $$x[n+1] = f(n, x[n], u[n]),$$ where $n$ is the \"time\", $x$ is the state, and $u$ is any inputs to the system.  The `System` describes $f()$, but we use a structure called the `Context` to hold the runtime values: $n, x, u$.  We use a structure, because some systems have even more runtime values, that describe system parameters, random noise inputs, etc, and it is cleaner to pass a structure around than have each system accept a different list of possible inputs.  As a rule `System` is constant over the duration of a simulation, and you should be able to obtain repeatable, deterministic simulations given any value `Context`.\n",
        "\n",
        "Let's see what the `Context` looks like for the physics engine now that we've loaded the iiwa into it."
      ]
    },
    {
      "cell_type": "code",
      "metadata": {
        "id": "P8HoF2KPdXNL",
        "colab_type": "code",
        "colab": {}
      },
      "source": [
        "context = plant.CreateDefaultContext()\n",
        "print(context)"
      ],
      "execution_count": null,
      "outputs": []
    },
    {
      "cell_type": "markdown",
      "metadata": {
        "id": "vr80vD3Be7uZ",
        "colab_type": "text"
      },
      "source": [
        "The system has 14 state variables -- these are the 7 joint positions and 7 joint velocities for the iiwa.  Those states are discrete, because we passed a non-zero `time_step` to the constructor of the `MultibodyPlant`, which means the physics engine will be use a time-stepping simulation scheme (this will be the most performant when we start simulating contact).  Go ahead and try changing `time_step` to zero, and see what happens.\n",
        "\n",
        "Because the `Context` for a `MultibodyPlant` can get quite complicated, `MultibodyPlant` offers some methods that help you get/set the values.  Let's set some non-zero initial positions."
      ]
    },
    {
      "cell_type": "code",
      "metadata": {
        "id": "73whw6YZf9PP",
        "colab_type": "code",
        "colab": {}
      },
      "source": [
        "# Set all of the joint positions at once in a single vector.\n",
        "plant.SetPositions(context, [-1.57, 0.1, 0, 0, 0, 1.6, 0])\n",
        "# You can also set them by referencing particular joints.\n",
        "plant.GetJointByName(\"iiwa_joint_4\").set_angle(context, -1.2)\n",
        "print(context)"
      ],
      "execution_count": null,
      "outputs": []
    },
    {
      "cell_type": "markdown",
      "metadata": {
        "id": "LpQlGh1Ai27g",
        "colab_type": "text"
      },
      "source": [
        "The iiwa model also defined 7 actuators.  Before we can run a simulation, we need to provide some values for those inputs to the `MultibodyPlant` `actuation_input_port`.  For this warm-up, we'll just set them to zero."
      ]
    },
    {
      "cell_type": "code",
      "metadata": {
        "id": "dJx-KrGUjR8x",
        "colab_type": "code",
        "colab": {}
      },
      "source": [
        "plant.get_actuation_input_port().FixValue(context, np.zeros(7));"
      ],
      "execution_count": null,
      "outputs": []
    },
    {
      "cell_type": "markdown",
      "metadata": {
        "id": "zqb66IBcierZ",
        "colab_type": "text"
      },
      "source": [
        "Now we can set up and run a simulation."
      ]
    },
    {
      "cell_type": "code",
      "metadata": {
        "id": "6DYEtGbtimit",
        "colab_type": "code",
        "colab": {}
      },
      "source": [
        "from pydrake.all import Simulator\n",
        "simulator = Simulator(plant, context)\n",
        "simulator.AdvanceTo(5.0)\n",
        "print(context)"
      ],
      "execution_count": null,
      "outputs": []
    },
    {
      "cell_type": "markdown",
      "metadata": {
        "id": "8ZKEl1QU1Dh9",
        "colab_type": "text"
      },
      "source": [
        "# Visualizing the scene\n",
        "\n",
        "The best way to visualize the results of a physics engine is with a 2D or 3D visualizer. For that, we need to add the system which curates the geometry of a scene (the geometry engine); in Drake with call it the [`SceneGraph`](https://drake.mit.edu/doxygen_cxx/classdrake_1_1geometry_1_1_scene_graph.html). Once we have a `SceneGraph`, then there are a number of different visualizers and sensors that we can add to the system to actually render the scene.\n",
        "\n",
        "We support a number of visualizers in drake (we ship a simple VTK-based \"drake-visualizer\" with our binary releases, or you can use RViz).  But because we're working in a jupyter notebook, and want you to be able to run 3D graphics on any machine without any installation required, we'll use the [MeshCat](https://github.com/rdeits/meshcat) visualizer throughout these notes.  \n",
        "\n",
        "To use all three systems (`MultibodyPlant`, `SceneGraph`, and `MeshcatVisualizer`), we need to assemble them into a [`Diagram`](https://drake.mit.edu/doxygen_cxx/classdrake_1_1systems_1_1_diagram.html) using a [`DiagramBuilder`](https://drake.mit.edu/doxygen_cxx/classdrake_1_1systems_1_1_diagram_builder.html).  Often you would add each system and then connect the ports together, but for common cases like we have here, we provide helper methods to reduce the boilerplate."
      ]
    },
    {
      "cell_type": "code",
      "metadata": {
        "id": "WkfjAgrL1Dh-",
        "colab_type": "code",
        "colab": {}
      },
      "source": [
        "import numpy as np\n",
        "from pydrake.all import (\n",
        "    AddMultibodyPlantSceneGraph, ConnectMeshcatVisualizer, DiagramBuilder, \n",
        "    FindResourceOrThrow, Parser\n",
        ")\n",
        "\n",
        "builder = DiagramBuilder()\n",
        "\n",
        "# Adds both MultibodyPlant and the SceneGraph, and wires them together.\n",
        "plant, scene_graph = AddMultibodyPlantSceneGraph(builder, time_step=1e-4)\n",
        "# Note that we parse into both the plant and the scene_graph here.\n",
        "Parser(plant, scene_graph).AddModelFromFile(\n",
        "        FindResourceOrThrow(\"drake/manipulation/models/iiwa_description/sdf/iiwa14_no_collision.sdf\"))\n",
        "plant.WeldFrames(plant.world_frame(), plant.GetFrameByName(\"iiwa_link_0\"))\n",
        "plant.Finalize()\n",
        "\n",
        "# Adds the MeshcatVisualizer and wires it to the SceneGraph.\n",
        "meshcat = ConnectMeshcatVisualizer(builder, scene_graph, zmq_url=zmq_url)\n",
        "\n",
        "diagram = builder.Build()"
      ],
      "execution_count": null,
      "outputs": []
    },
    {
      "cell_type": "markdown",
      "metadata": {
        "id": "Rm4kVRMS1DiF",
        "colab_type": "text"
      },
      "source": [
        "If you click on the link above, you can open a browser window to see the visualization.\n",
        "\n",
        "But the scene will be empty so far.  We need to actually construct the diagram and ask it to publish.  (MeshcatVisualizer will automatically publish on a fixed period during simulation)."
      ]
    },
    {
      "cell_type": "code",
      "metadata": {
        "id": "2YMNZBi11DiN",
        "colab_type": "code",
        "colab": {}
      },
      "source": [
        "context = diagram.CreateDefaultContext()\n",
        "diagram.Publish(context)"
      ],
      "execution_count": null,
      "outputs": []
    },
    {
      "cell_type": "markdown",
      "metadata": {
        "id": "kPcyp3zv1Dir",
        "colab_type": "text"
      },
      "source": [
        "We've put together quite a complex system now.  A `Diagram` is just another `System`, so it has an associated context."
      ]
    },
    {
      "cell_type": "code",
      "metadata": {
        "id": "Kr9BgEkcCQaZ",
        "colab_type": "code",
        "colab": {}
      },
      "source": [
        "print(context)"
      ],
      "execution_count": null,
      "outputs": []
    },
    {
      "cell_type": "markdown",
      "metadata": {
        "id": "gu6_NRm_Cl-O",
        "colab_type": "text"
      },
      "source": [
        "You can see that there is one additional \"abstract state\" from the `SceneGraph`.  `MeshcatVisualizer` is stateless.  Actually `SceneGraph` should really be stateless for these simple examples, too [#9501](https://github.com/RobotLocomotion/drake/issues/9501).\n",
        "\n",
        "It's also very useful to draw the actual block diagram.\n",
        "\n",
        "TODO(russt): Update the javascript rendering [#13874](https://github.com/RobotLocomotion/drake/issues/13874).  "
      ]
    },
    {
      "cell_type": "code",
      "metadata": {
        "id": "XTeyZc7n1Dit",
        "colab_type": "code",
        "colab": {}
      },
      "source": [
        "from IPython.display import HTML\n",
        "from pydrake.systems.framework import GenerateHtml\n",
        "\n",
        "diagram.set_name(\"diagram\")\n",
        "HTML('<script src=\"https://unpkg.com/gojs/release/go.js\"></script>' + GenerateHtml(diagram))"
      ],
      "execution_count": null,
      "outputs": []
    },
    {
      "cell_type": "markdown",
      "metadata": {
        "id": "5OwrpdeGE5aa",
        "colab_type": "text"
      },
      "source": [
        "There is one more important detail: **The `Context` for the `Diagram` is not the `Context` of the `MultibodyPlant`.  But you can extract the plant `Context`; and we need to in order to set the initial conditions of the robot."
      ]
    },
    {
      "cell_type": "code",
      "metadata": {
        "id": "aA5dasXyFWXo",
        "colab_type": "code",
        "colab": {}
      },
      "source": [
        "plant_context = plant.GetMyMutableContextFromRoot(context)\n",
        "plant.SetPositions(plant_context, [-1.57, 0.1, 0, -1.2, 0, 1.6, 0])\n",
        "plant.get_actuation_input_port().FixValue(plant_context, np.zeros(7))\n",
        "print(context)"
      ],
      "execution_count": null,
      "outputs": []
    },
    {
      "cell_type": "markdown",
      "metadata": {
        "id": "Js2ulEaFF0yD",
        "colab_type": "text"
      },
      "source": [
        "Accidentally using `context` instead of `plant_context` is a very common mistake!\n",
        "\n",
        "Ok, now we're ready to simulate.  Make sure your visualizer window is visible, then run the following cell."
      ]
    },
    {
      "cell_type": "code",
      "metadata": {
        "id": "ZySlXAKSGLaS",
        "colab_type": "code",
        "colab": {}
      },
      "source": [
        "from pydrake.all import Simulator\n",
        "simulator = Simulator(diagram, context)\n",
        "simulator.set_target_realtime_rate(1.0)\n",
        "simulator.AdvanceTo(5.0)"
      ],
      "execution_count": null,
      "outputs": []
    },
    {
      "cell_type": "markdown",
      "metadata": {
        "id": "Fdkx17YxGPSz",
        "colab_type": "text"
      },
      "source": [
        "Glorious!"
      ]
    },
    {
      "cell_type": "markdown",
      "metadata": {
        "id": "8SPr8dXoY3IT",
        "colab_type": "text"
      },
      "source": [
        "# Adding the iiwa controller\n",
        "\n",
        "The iiwa hardware interface runs through a control system provided by the manufacturer.  We can't turn it off.  The best we can do is add our approximation of it to our simulation.  I'll repeat everything we've set up before (to keep this example self-contained), but we'll add one more system for the controller."
      ]
    },
    {
      "cell_type": "code",
      "metadata": {
        "id": "Qd245P5kY666",
        "colab_type": "code",
        "colab": {}
      },
      "source": [
        "import numpy as np\n",
        "from pydrake.all import (\n",
        "    AddMultibodyPlantSceneGraph, ConnectMeshcatVisualizer, DiagramBuilder, \n",
        "    FindResourceOrThrow, InverseDynamicsController, Parser\n",
        ")\n",
        "\n",
        "builder = DiagramBuilder()\n",
        "\n",
        "# Adds both MultibodyPlant and the SceneGraph, and wires them together.\n",
        "plant, scene_graph = AddMultibodyPlantSceneGraph(builder, time_step=1e-4)\n",
        "# Note that we parse into both the plant and the scene_graph here.\n",
        "iiwa_model = Parser(plant, scene_graph).AddModelFromFile(\n",
        "        FindResourceOrThrow(\"drake/manipulation/models/iiwa_description/sdf/iiwa14_no_collision.sdf\"))\n",
        "plant.WeldFrames(plant.world_frame(), plant.GetFrameByName(\"iiwa_link_0\"))\n",
        "plant.Finalize()\n",
        "\n",
        "# Adds the MeshcatVisualizer and wires it to the SceneGraph.\n",
        "meshcat = ConnectMeshcatVisualizer(builder, scene_graph, zmq_url=zmq_url)\n",
        "\n",
        "# Adds an approximation of the iiwa controller.\n",
        "# TODO(russt): replace this with the joint impedance controller.\n",
        "Kp = np.full(7, 100)\n",
        "Ki = 2 * np.sqrt(Kp)\n",
        "Kd = np.full(7, 1)\n",
        "iiwa_controller = builder.AddSystem(InverseDynamicsController(plant, Kp, Ki, Kd, False))\n",
        "iiwa_controller.set_name(\"iiwa_controller\");\n",
        "builder.Connect(plant.get_state_output_port(iiwa_model),\n",
        "                iiwa_controller.get_input_port_estimated_state())\n",
        "builder.Connect(iiwa_controller.get_output_port_control(),\n",
        "                plant.get_actuation_input_port())\n",
        "diagram = builder.Build()"
      ],
      "execution_count": null,
      "outputs": []
    },
    {
      "cell_type": "markdown",
      "metadata": {
        "id": "SwmwcTcOX-pm",
        "colab_type": "text"
      },
      "source": [
        "Let's see what our diagram looks like..."
      ]
    },
    {
      "cell_type": "code",
      "metadata": {
        "id": "EjJzh5veYA6e",
        "colab_type": "code",
        "colab": {}
      },
      "source": [
        "from IPython.display import HTML\n",
        "from pydrake.systems.framework import GenerateHtml\n",
        "\n",
        "diagram.set_name(\"diagram\")\n",
        "HTML('<script src=\"https://unpkg.com/gojs/release/go.js\"></script>' + GenerateHtml(diagram))"
      ],
      "execution_count": null,
      "outputs": []
    },
    {
      "cell_type": "markdown",
      "metadata": {
        "id": "wuo1q8PgXzrp",
        "colab_type": "text"
      },
      "source": [
        "To set up the `Context` now, instead of setting the `actuation_input` to zero, we set the `desired_state` of the iiwa controller to be the current position of the arm.  But the desired *state* must also include desired velocities, so we set those to zero."
      ]
    },
    {
      "cell_type": "code",
      "metadata": {
        "id": "GHrnvvpXXixB",
        "colab_type": "code",
        "colab": {}
      },
      "source": [
        "context = diagram.CreateDefaultContext()\n",
        "plant_context = plant.GetMyMutableContextFromRoot(context)\n",
        "q0 = np.array([-1.57, 0.1, 0, -1.2, 0, 1.6, 0])\n",
        "x0 = np.hstack((q0, 0*q0))\n",
        "plant.SetPositions(plant_context, q0)\n",
        "iiwa_controller.GetInputPort('desired_state').FixValue(\n",
        "    iiwa_controller.GetMyMutableContextFromRoot(context), x0)\n",
        "print(context)"
      ],
      "execution_count": null,
      "outputs": []
    },
    {
      "cell_type": "markdown",
      "metadata": {
        "id": "kAWFX5H7atro",
        "colab_type": "text"
      },
      "source": [
        "Now, if we simulate, the robot just stays put.  Just like the real robot would."
      ]
    },
    {
      "cell_type": "code",
      "metadata": {
        "id": "qvJ2PptyYuz2",
        "colab_type": "code",
        "colab": {}
      },
      "source": [
        "from pydrake.all import Simulator\n",
        "simulator = Simulator(diagram, context)\n",
        "simulator.set_target_realtime_rate(1.0);\n",
        "simulator.AdvanceTo(5.0);"
      ],
      "execution_count": null,
      "outputs": []
    },
    {
      "cell_type": "code",
      "metadata": {
        "id": "t_s55O2Xa0KH",
        "colab_type": "code",
        "colab": {}
      },
      "source": [
        ""
      ],
      "execution_count": null,
      "outputs": []
    }
  ]
}