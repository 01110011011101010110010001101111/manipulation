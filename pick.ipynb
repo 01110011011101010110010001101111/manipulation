{
  "nbformat": 4,
  "nbformat_minor": 0,
  "metadata": {
    "kernelspec": {
      "display_name": "Python 3",
      "language": "python",
      "name": "python3"
    },
    "language_info": {
      "codemirror_mode": {
        "name": "ipython",
        "version": 3
      },
      "file_extension": ".py",
      "mimetype": "text/x-python",
      "name": "python",
      "nbconvert_exporter": "python",
      "pygments_lexer": "ipython3",
      "version": "3.8.3"
    },
    "colab": {
      "name": "Robotic Manipulation - Basic Pick and Place.ipynb",
      "provenance": [],
      "collapsed_sections": [],
      "toc_visible": true
    }
  },
  "cells": [
    {
      "cell_type": "markdown",
      "metadata": {
        "id": "EgiF12Hf1Dhs",
        "colab_type": "text"
      },
      "source": [
        "**I recommend you run the first code cell of this notebook immediately, to start provisioning drake on the cloud machine, then you can leave this window open as you [read the textbook](manipulation.csail.mit.edu/pick.html).**\n",
        "\n",
        "# Notebook setup\n",
        "\n",
        "The following cell will:\n",
        "- on Colab (only), install Drake to `/opt/drake`, install Drake's prerequisites via `apt`, and add pydrake to `sys.path`.  This will take approximately two minutes on the first time it runs (to provision the machine), but should only need to reinstall once every 12 hours.  If you navigate between notebooks using Colab's \"File->Open\" menu, then you can avoid provisioning a separate machine for each notebook.\n",
        "- launch a server for our 3D visualizer (MeshCat) that will be used for the remainder of this notebook.\n",
        "\n",
        "You will need to rerun this cell if you restart the kernel, but it should be fast because the machine will already have drake installed."
      ]
    },
    {
      "cell_type": "code",
      "metadata": {
        "id": "eeMrMI0-1Dhu",
        "colab_type": "code",
        "colab": {}
      },
      "source": [
        "import importlib\n",
        "import sys\n",
        "from urllib.request import urlretrieve\n",
        "\n",
        "# Install drake.\n",
        "if 'google.colab' in sys.modules and importlib.util.find_spec('pydrake') is None:\n",
        "  version='20200826'\n",
        "  build='nightly'\n",
        "  urlretrieve(f\"https://drake-packages.csail.mit.edu/drake/{build}/drake-{version}/setup_drake_colab.py\",\n",
        "              \"setup_drake_colab.py\")\n",
        "  from setup_drake_colab import setup_drake\n",
        "  setup_drake(version=version, build=build)\n",
        "\n",
        "# Install pyngrok.\n",
        "server_args = []\n",
        "if 'google.colab' in sys.modules:\n",
        "  !pip install pyngrok\n",
        "  server_args = ['--ngrok_http_tunnel']\n",
        "\n",
        "# Start a single meshcat server instance to use for the remainder of this notebook.\n",
        "from meshcat.servers.zmqserver import start_zmq_server_as_subprocess\n",
        "proc, zmq_url, web_url = start_zmq_server_as_subprocess(server_args=server_args)\n",
        "\n",
        "\n",
        "# TODO(russt): upstream this to drake\n",
        "import numpy as np\n",
        "from functools import partial\n",
        "\n",
        "from IPython.display import display\n",
        "from ipywidgets import FloatSlider, Layout\n",
        "\n",
        "from pydrake.all import JointIndex\n",
        "\n",
        "def joint_sliders_with_callbacks(\n",
        "    robot, meshcat, root_context, extra_callback=None, \n",
        "    lower_limit=-10., upper_limit=10., resolution=0.01, length=200):\n",
        "    \"\"\" will add a slider for each joint in plant, and set up a callback to set the context and call meshcat publish. \"\"\"\n",
        "\n",
        "    def _reshape(x, num):\n",
        "        x = np.array(x)\n",
        "        assert len(x.shape) <= 1\n",
        "        return np.array(x) * np.ones(num)\n",
        "\n",
        "    lower_limit = _reshape(lower_limit, robot.num_positions())\n",
        "    upper_limit = _reshape(upper_limit, robot.num_positions())\n",
        "    resolution = _reshape(resolution, robot.num_positions())\n",
        "\n",
        "    meshcat.load()\n",
        "    meshcat_context = meshcat.GetMyContextFromRoot(root_context)\n",
        "    meshcat.Publish(meshcat_context)\n",
        "    robot_context = robot.GetMyContextFromRoot(root_context)\n",
        "    positions = robot.GetPositions(robot_context)\n",
        "    def _slider_callback(change, index):\n",
        "        positions[index] = change.new\n",
        "        robot.SetPositions(robot_context, positions)\n",
        "        meshcat.Publish(meshcat_context)\n",
        "        if extra_callback:\n",
        "            extra_callback(robot_context)\n",
        "\n",
        "    k = 0\n",
        "    for i in range(0, robot.num_joints()):\n",
        "        joint = robot.get_joint(JointIndex(i))\n",
        "        low = joint.position_lower_limits()\n",
        "        upp = joint.position_upper_limits()\n",
        "        for j in range(0, joint.num_positions()):\n",
        "            index = joint.position_start() + j\n",
        "            slider = FloatSlider(\n",
        "                value=positions[index],\n",
        "                min=max(low[j], lower_limit[k]),\n",
        "                max=min(upp[j], upper_limit[k]),\n",
        "                step=resolution[k],\n",
        "                continuous_update=True,\n",
        "                description=joint.name(),\n",
        "                style={'description_width': 'initial'},\n",
        "                layout=Layout(width=f\"'{length}'\"))\n",
        "            slider.observe(partial(_slider_callback, index=index), names='value')\n",
        "            display(slider)\n",
        "            k += 1\n"
      ],
      "execution_count": null,
      "outputs": []
    },
    {
      "cell_type": "markdown",
      "metadata": {
        "id": "7q0A14bAilIX",
        "colab_type": "text"
      },
      "source": [
        "# Inspecting the kinematic tree\n",
        "\n",
        "Here is a simple example that demonstrates how to inspect the kinematic tree stored in a `MultibodyPlant`."
      ]
    },
    {
      "cell_type": "code",
      "metadata": {
        "id": "ILYLouFTjv6e",
        "colab_type": "code",
        "colab": {}
      },
      "source": [
        "from pydrake.all import FindResourceOrThrow, MultibodyPlant, Parser, plot_graphviz\n",
        "\n",
        "plant = MultibodyPlant(time_step=0.0)\n",
        "parser = Parser(plant)\n",
        "parser.AddModelFromFile(FindResourceOrThrow(\n",
        "    \"drake/manipulation/models/allegro_hand_description/sdf/allegro_hand_description_right.sdf\"))\n",
        "parser.AddModelFromFile(FindResourceOrThrow(\n",
        "    \"drake/examples/manipulation_station/models/061_foam_brick.sdf\"))\n",
        "plant.Finalize()\n",
        "\n",
        "# TODO(russt): Update this to a javascript rendering.\n",
        "# TODO(russt): Add floating base connections.\n",
        "plot_graphviz(plant.GetTopologyGraphvizString());"
      ],
      "execution_count": null,
      "outputs": []
    },
    {
      "cell_type": "markdown",
      "metadata": {
        "id": "wSa5QcU0Piak",
        "colab_type": "text"
      },
      "source": [
        "# Forward kinematics of the gripper frame\n",
        "\n",
        "Here is a simple example that let's you visualize the frames on the iiwa and the gripper.  If you click on the \"Open Controls\" menu in the MeshCat visualizer, and dig into the menu `meshcat->drake->Source` then you will see elements for each of the models in the `SceneGraph`: one for the iiwa, another for the WSG, and others for the clutter bins.  You can enable/disable their visualization.  Give it a spin!"
      ]
    },
    {
      "cell_type": "code",
      "metadata": {
        "id": "5SjOClhTltPk",
        "colab_type": "code",
        "colab": {}
      },
      "source": [
        "from IPython.display import display\n",
        "from ipywidgets import Text, Layout\n",
        "\n",
        "from pydrake.all import DiagramBuilder, ConnectMeshcatVisualizer, RollPitchYaw\n",
        "from pydrake.examples.manipulation_station import ManipulationStation\n",
        "\n",
        "builder = DiagramBuilder()\n",
        "\n",
        "# TODO: Replace this with a simple model directive of iiwa+wsg (no clutter bins)\n",
        "station = builder.AddSystem(ManipulationStation())\n",
        "station.SetupClutterClearingStation()\n",
        "station.Finalize()\n",
        "\n",
        "frames_to_draw = {\"iiwa\": {\"iiwa_link_1\", \"iiwa_link_2\", \"iiwa_link_3\", \"iiwa_link_4\", \"iiwa_link_5\", \"iiwa_link_6\", \"iiwa_link_7\"},\n",
        "                  \"gripper\": {\"body\"}}\n",
        "meshcat = ConnectMeshcatVisualizer(builder,\n",
        "    station.get_scene_graph(),\n",
        "    output_port=station.GetOutputPort(\"pose_bundle\"),\n",
        "    zmq_url=zmq_url,\n",
        "    frames_to_draw=frames_to_draw,\n",
        "    axis_length=0.3,\n",
        "    axis_radius=0.01)\n",
        "\n",
        "diagram = builder.Build()\n",
        "context = diagram.CreateDefaultContext()\n",
        "\n",
        "xyz = Text(value=\"\", description=\"gripper position (m): \", layout=Layout(width='500px'), style={'description_width':'initial'})\n",
        "rpy = Text(value=\"\", description=\"gripper roll-pitch-yaw (rad): \", layout=Layout(width='500px'), style={'description_width':'initial'})\n",
        "plant = station.get_multibody_plant()\n",
        "\n",
        "gripper = plant.GetBodyByName(\"body\")\n",
        "def pose_callback(context):\n",
        "    pose = plant.EvalBodyPoseInWorld(context, gripper)   ## This is the important line\n",
        "    xyz.value = np.array2string(pose.translation(), formatter={'float': lambda x: \"{:3.2f}\".format(x)})\n",
        "    rpy.value = np.array2string(RollPitchYaw(pose.rotation()).vector(), formatter={'float': lambda x: \"{:3.2f}\".format(x)})\n",
        "\n",
        "joint_sliders_with_callbacks(station.get_multibody_plant(), meshcat, context, extra_callback=pose_callback)\n",
        "display(xyz)\n",
        "display(rpy)\n"
      ],
      "execution_count": null,
      "outputs": []
    },
    {
      "cell_type": "markdown",
      "metadata": {
        "id": "8ZUhwdTOtOjp",
        "colab_type": "text"
      },
      "source": [
        "# Don't assume $\\dot{q} \\equiv v$"
      ]
    },
    {
      "cell_type": "code",
      "metadata": {
        "id": "MKezK0PjtUP4",
        "colab_type": "code",
        "colab": {}
      },
      "source": [
        ""
      ],
      "execution_count": null,
      "outputs": []
    },
    {
      "cell_type": "markdown",
      "metadata": {
        "id": "hSeD3PBotJUU",
        "colab_type": "text"
      },
      "source": [
        "# Kinematic Jacobians for pick and place\n",
        "\n",
        "Let's set up the same iiwa + wsg example, with sliders (but without the frames), that we used above.  But this time I'll display the value of the Jacobian $J^G(q)$."
      ]
    },
    {
      "cell_type": "code",
      "metadata": {
        "id": "6F_KZoc1QDkY",
        "colab_type": "code",
        "colab": {}
      },
      "source": [
        "from IPython.display import display\n",
        "from ipywidgets import Text, Textarea, Layout\n",
        "\n",
        "from pydrake.all import (DiagramBuilder, ConnectMeshcatVisualizer, JacobianWrtVariable)\n",
        "from pydrake.examples.manipulation_station import ManipulationStation\n",
        "\n",
        "builder = DiagramBuilder()\n",
        "\n",
        "# TODO: Replace this with a simple model directive of iiwa+wsg (no clutter bins)\n",
        "station = builder.AddSystem(ManipulationStation())\n",
        "station.SetupClutterClearingStation()\n",
        "station.Finalize()\n",
        "\n",
        "meshcat = ConnectMeshcatVisualizer(builder,\n",
        "    station.get_scene_graph(),\n",
        "    output_port=station.GetOutputPort(\"pose_bundle\"),\n",
        "    zmq_url=zmq_url)\n",
        "\n",
        "diagram = builder.Build()\n",
        "context = diagram.CreateDefaultContext()\n",
        "\n",
        "jacobian = Textarea(value=\"\", description=\"J_G: \", layout={'width':'60%','height':'100px'}, style={'description_width':'initial'})\n",
        "sigma = Text(value=\"\", description=\"smallest singular value(J_G): \", layout={'width':'60%'}, style={'description_width':'initial'})\n",
        "plant = station.get_multibody_plant()\n",
        "\n",
        "G = plant.GetBodyByName(\"body\").body_frame()\n",
        "W = plant.world_frame()\n",
        "def pose_callback(context):\n",
        "    J_G = plant.CalcJacobianSpatialVelocity(context, JacobianWrtVariable.kQDot, G, [0,0,0], W, W)   ## This is the important line\n",
        "    jacobian.value = np.array2string(J_G, formatter={'float': lambda x: \"{:5.1f}\".format(x)})\n",
        "    sigma.value = str(np.min(np.linalg.svd(J_G, compute_uv=False)))\n",
        "\n",
        "joint_sliders_with_callbacks(station.get_multibody_plant(), meshcat, context, extra_callback=pose_callback)\n",
        "display(jacobian)\n",
        "display(sigma)\n"
      ],
      "execution_count": null,
      "outputs": []
    },
    {
      "cell_type": "code",
      "metadata": {
        "id": "WBTFzB5ZuXvP",
        "colab_type": "code",
        "colab": {}
      },
      "source": [
        ""
      ],
      "execution_count": null,
      "outputs": []
    }
  ]
}