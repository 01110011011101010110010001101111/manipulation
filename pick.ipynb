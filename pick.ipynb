{
  "nbformat": 4,
  "nbformat_minor": 0,
  "metadata": {
    "kernelspec": {
      "display_name": "Python 3",
      "language": "python",
      "name": "python3"
    },
    "language_info": {
      "codemirror_mode": {
        "name": "ipython",
        "version": 3
      },
      "file_extension": ".py",
      "mimetype": "text/x-python",
      "name": "python",
      "nbconvert_exporter": "python",
      "pygments_lexer": "ipython3",
      "version": "3.8.3"
    },
    "colab": {
      "name": "Robotic Manipulation - Basic Pick and Place.ipynb",
      "provenance": [],
      "collapsed_sections": [],
      "toc_visible": true
    }
  },
  "cells": [
    {
      "cell_type": "markdown",
      "metadata": {
        "id": "EgiF12Hf1Dhs",
        "colab_type": "text"
      },
      "source": [
        "**I recommend you run the first code cell of this notebook immediately, to start provisioning drake on the cloud machine, then you can leave this window open as you [read the textbook](manipulation.csail.mit.edu/pick.html).**\n",
        "\n",
        "# Notebook setup\n",
        "\n",
        "The following cell will:\n",
        "- on Colab (only), install Drake to `/opt/drake`, install Drake's prerequisites via `apt`, and add pydrake to `sys.path`.  This will take approximately two minutes on the first time it runs (to provision the machine), but should only need to reinstall once every 12 hours.  If you navigate between notebooks using Colab's \"File->Open\" menu, then you can avoid provisioning a separate machine for each notebook.\n",
        "- launch a server for our 3D visualizer (MeshCat) that will be used for the remainder of this notebook.\n",
        "\n",
        "You will need to rerun this cell if you restart the kernel, but it should be fast because the machine will already have drake installed."
      ]
    },
    {
      "cell_type": "code",
      "metadata": {
        "id": "eeMrMI0-1Dhu",
        "colab_type": "code",
        "colab": {}
      },
      "source": [
        "import importlib\n",
        "import sys\n",
        "from urllib.request import urlretrieve\n",
        "\n",
        "# Install drake.\n",
        "if 'google.colab' in sys.modules and importlib.util.find_spec('pydrake') is None:\n",
        "  version='20200907'\n",
        "  build='nightly'\n",
        "  urlretrieve(f\"https://drake-packages.csail.mit.edu/drake/{build}/drake-{version}/setup_drake_colab.py\",\n",
        "              \"setup_drake_colab.py\")\n",
        "  from setup_drake_colab import setup_drake\n",
        "  setup_drake(version=\"20200907190552-4413ec877e8c1c8237023d74355b76c391a11ca2\", build=\"experimental\")\n",
        "#  setup_drake(version=version, build=build)\n",
        "\n",
        "# Install pyngrok.\n",
        "server_args = []\n",
        "if 'google.colab' in sys.modules:\n",
        "  !pip install pyngrok\n",
        "  server_args = ['--ngrok_http_tunnel']\n",
        "\n",
        "# Start a single meshcat server instance to use for the remainder of this notebook.\n",
        "from meshcat.servers.zmqserver import start_zmq_server_as_subprocess\n",
        "proc, zmq_url, web_url = start_zmq_server_as_subprocess(server_args=server_args)\n",
        "\n",
        "\n",
        "# TODO(russt): upstream this to drake\n",
        "import numpy as np\n",
        "from functools import partial\n",
        "\n",
        "from IPython.display import display\n",
        "from ipywidgets import FloatSlider, Layout\n",
        "\n",
        "from pydrake.all import JointIndex\n",
        "\n",
        "slider_widgets = []\n",
        "def joint_sliders_with_callbacks(\n",
        "    robot, meshcat, root_context, extra_callback=None, \n",
        "    lower_limit=-10., upper_limit=10., resolution=0.01, length=200):\n",
        "    \"\"\" will add a slider for each joint in plant, and set up a callback to set the context and call meshcat publish. \"\"\"\n",
        "\n",
        "    def _reshape(x, num):\n",
        "        x = np.array(x)\n",
        "        assert len(x.shape) <= 1\n",
        "        return np.array(x) * np.ones(num)\n",
        "\n",
        "    lower_limit = _reshape(lower_limit, robot.num_positions())\n",
        "    upper_limit = _reshape(upper_limit, robot.num_positions())\n",
        "    resolution = _reshape(resolution, robot.num_positions())\n",
        "\n",
        "    meshcat.load()\n",
        "    meshcat_context = meshcat.GetMyContextFromRoot(root_context)\n",
        "    meshcat.Publish(meshcat_context)\n",
        "    robot_context = robot.GetMyContextFromRoot(root_context)\n",
        "    positions = robot.GetPositions(robot_context)\n",
        "    def _slider_callback(change, index):\n",
        "        positions[index] = change.new\n",
        "        robot.SetPositions(robot_context, positions)\n",
        "        meshcat.Publish(meshcat_context)\n",
        "        if extra_callback:\n",
        "            extra_callback(robot_context)\n",
        "\n",
        "    k = 0\n",
        "    for i in range(0, robot.num_joints()):\n",
        "        joint = robot.get_joint(JointIndex(i))\n",
        "        low = joint.position_lower_limits()\n",
        "        upp = joint.position_upper_limits()\n",
        "        for j in range(0, joint.num_positions()):\n",
        "            index = joint.position_start() + j\n",
        "            slider = FloatSlider(\n",
        "                value=positions[index],\n",
        "                min=max(low[j], lower_limit[k]),\n",
        "                max=min(upp[j], upper_limit[k]),\n",
        "                step=resolution[k],\n",
        "                continuous_update=True,\n",
        "                description=joint.name(),\n",
        "                style={'description_width': 'initial'},\n",
        "                layout=Layout(width=f\"'{length}'\"))\n",
        "            slider.observe(partial(_slider_callback, index=index), names='value')\n",
        "            display(slider)\n",
        "            slider_widgets.append(slider)\n",
        "            k += 1\n",
        "\n",
        "def close_sliders():\n",
        "    for w in slider_widgets:\n",
        "        w.close()\n",
        "\n",
        "\n",
        "# TODO(russt): Move this to drake (adding the element name support to the base class).\n",
        "import pandas as pd\n",
        "\n",
        "def dataframe(trajectory, times, names):\n",
        "  assert trajectory.rows() == len(names)\n",
        "  values = trajectory.vector_values(times)\n",
        "  data = {'t': times }\n",
        "  for i in range(len(names)):\n",
        "    data[names[i]] = values[i,:]\n",
        "  return pd.DataFrame(data)"
      ],
      "execution_count": null,
      "outputs": []
    },
    {
      "cell_type": "markdown",
      "metadata": {
        "id": "7q0A14bAilIX",
        "colab_type": "text"
      },
      "source": [
        "# Inspecting the kinematic tree\n",
        "\n",
        "Here is a simple example that demonstrates how to inspect the kinematic tree stored in a `MultibodyPlant`."
      ]
    },
    {
      "cell_type": "code",
      "metadata": {
        "id": "ILYLouFTjv6e",
        "colab_type": "code",
        "colab": {}
      },
      "source": [
        "import pydot\n",
        "from IPython.display import SVG\n",
        "from pydrake.all import FindResourceOrThrow, MultibodyPlant, Parser\n",
        "\n",
        "plant = MultibodyPlant(time_step=0.0)\n",
        "parser = Parser(plant)\n",
        "parser.AddModelFromFile(FindResourceOrThrow(\n",
        "    \"drake/manipulation/models/allegro_hand_description/sdf/allegro_hand_description_right.sdf\"))\n",
        "parser.AddModelFromFile(FindResourceOrThrow(\n",
        "    \"drake/examples/manipulation_station/models/061_foam_brick.sdf\"))\n",
        "plant.Finalize()\n",
        "\n",
        "# TODO(russt): Add floating base connections\n",
        "# TODO(russt): Consider a more interactive javascript rendering?\n",
        "SVG(pydot.graph_from_dot_data(plant.GetTopologyGraphvizString())[0].create_svg())"
      ],
      "execution_count": null,
      "outputs": []
    },
    {
      "cell_type": "markdown",
      "metadata": {
        "id": "wSa5QcU0Piak",
        "colab_type": "text"
      },
      "source": [
        "# Forward kinematics of the gripper frame\n",
        "\n",
        "Here is a simple example that let's you visualize the frames on the iiwa and the gripper.  If you click on the \"Open Controls\" menu in the MeshCat visualizer, and dig into the menu `meshcat->drake->Source` then you will see elements for each of the models in the `SceneGraph`: one for the iiwa, another for the WSG, and others for the clutter bins.  You can enable/disable their visualization.  Give it a spin!"
      ]
    },
    {
      "cell_type": "code",
      "metadata": {
        "id": "5SjOClhTltPk",
        "colab_type": "code",
        "colab": {}
      },
      "source": [
        "from IPython.display import display\n",
        "from ipywidgets import Text, Layout\n",
        "\n",
        "from pydrake.all import DiagramBuilder, ConnectMeshcatVisualizer, RollPitchYaw\n",
        "from pydrake.examples.manipulation_station import ManipulationStation\n",
        "\n",
        "close_sliders()\n",
        "builder = DiagramBuilder()\n",
        "\n",
        "# TODO: Replace this with a simple model directive of iiwa+wsg (no clutter bins)\n",
        "station = builder.AddSystem(ManipulationStation())\n",
        "station.SetupClutterClearingStation()\n",
        "station.Finalize()\n",
        "\n",
        "frames_to_draw = {\"iiwa\": {\"iiwa_link_1\", \"iiwa_link_2\", \"iiwa_link_3\", \"iiwa_link_4\", \"iiwa_link_5\", \"iiwa_link_6\", \"iiwa_link_7\"},\n",
        "                  \"gripper\": {\"body\"}}\n",
        "meshcat = ConnectMeshcatVisualizer(builder,\n",
        "    station.get_scene_graph(),\n",
        "    output_port=station.GetOutputPort(\"pose_bundle\"),\n",
        "    zmq_url=zmq_url,\n",
        "    frames_to_draw=frames_to_draw,\n",
        "    axis_length=0.3,\n",
        "    axis_radius=0.01)\n",
        "\n",
        "diagram = builder.Build()\n",
        "context = diagram.CreateDefaultContext()\n",
        "\n",
        "xyz = Text(value=\"\", description=\"gripper position (m): \", layout=Layout(width='500px'), style={'description_width':'initial'})\n",
        "rpy = Text(value=\"\", description=\"gripper roll-pitch-yaw (rad): \", layout=Layout(width='500px'), style={'description_width':'initial'})\n",
        "plant = station.get_multibody_plant()\n",
        "\n",
        "gripper = plant.GetBodyByName(\"body\")\n",
        "def pose_callback(context):\n",
        "    pose = plant.EvalBodyPoseInWorld(context, gripper)   ## This is the important line\n",
        "    xyz.value = np.array2string(pose.translation(), formatter={'float': lambda x: \"{:3.2f}\".format(x)})\n",
        "    rpy.value = np.array2string(RollPitchYaw(pose.rotation()).vector(), formatter={'float': lambda x: \"{:3.2f}\".format(x)})\n",
        "\n",
        "joint_sliders_with_callbacks(station.get_multibody_plant(), meshcat, context, extra_callback=pose_callback)\n",
        "display(xyz)\n",
        "display(rpy)\n"
      ],
      "execution_count": null,
      "outputs": []
    },
    {
      "cell_type": "markdown",
      "metadata": {
        "id": "8ZUhwdTOtOjp",
        "colab_type": "text"
      },
      "source": [
        "# Don't assume $\\dot{q} \\equiv v$\n",
        "\n",
        "Let's just add a single object into the scene.  We won't weld it to the world frame, so it is a \"free body\" or has a \"floating base\"."
      ]
    },
    {
      "cell_type": "code",
      "metadata": {
        "id": "MKezK0PjtUP4",
        "colab_type": "code",
        "colab": {}
      },
      "source": [
        "from pydrake.all import FindResourceOrThrow, MultibodyPlant, Parser\n",
        "\n",
        "plant = MultibodyPlant(time_step = 0.0)\n",
        "Parser(plant).AddModelFromFile(FindResourceOrThrow(\n",
        "    \"drake/examples/manipulation_station/models/061_foam_brick.sdf\"))\n",
        "plant.Finalize()\n",
        "\n",
        "context = plant.CreateDefaultContext()\n",
        "print(context)\n",
        "\n",
        "print(f\"plant.num_positions() = {plant.num_positions()}\")\n",
        "print(f\"plant.num_velocities() = {plant.num_velocities()}\")"
      ],
      "execution_count": null,
      "outputs": []
    },
    {
      "cell_type": "markdown",
      "metadata": {
        "id": "tlE6mkO0ajJu",
        "colab_type": "text"
      },
      "source": [
        "Looking at the `Context` you can see that this system has 13 total state variables.  7 of them are positions, $q$; this is due to our pose representation using unit quaternions.  But only 6 of them are velocities, $v$; this is because a six-element spatial velocity provides a better (unconstrained) representation of the rate of change of the unit quaternion.  But clearly, if the length of the vectors don't even match, we do *not* have $\\dot{q} = v$."
      ]
    },
    {
      "cell_type": "markdown",
      "metadata": {
        "id": "hSeD3PBotJUU",
        "colab_type": "text"
      },
      "source": [
        "# Kinematic Jacobians for pick and place\n",
        "\n",
        "Let's set up the same iiwa + wsg example, with sliders (but without the frames), that we used above.  But this time I'll display the value of the Jacobian $J^G(q)$."
      ]
    },
    {
      "cell_type": "code",
      "metadata": {
        "id": "6F_KZoc1QDkY",
        "colab_type": "code",
        "colab": {}
      },
      "source": [
        "from IPython.display import display\n",
        "from ipywidgets import Text, Textarea, Layout\n",
        "\n",
        "from pydrake.all import (DiagramBuilder, ConnectMeshcatVisualizer, JacobianWrtVariable)\n",
        "from pydrake.examples.manipulation_station import ManipulationStation\n",
        "\n",
        "close_sliders()\n",
        "builder = DiagramBuilder()\n",
        "\n",
        "# TODO: Replace this with a simple model directive of iiwa+wsg (no clutter bins)\n",
        "station = builder.AddSystem(ManipulationStation())\n",
        "station.SetupClutterClearingStation()\n",
        "station.Finalize()\n",
        "\n",
        "meshcat = ConnectMeshcatVisualizer(builder,\n",
        "    station.get_scene_graph(),\n",
        "    output_port=station.GetOutputPort(\"pose_bundle\"),\n",
        "    zmq_url=zmq_url)\n",
        "\n",
        "diagram = builder.Build()\n",
        "context = diagram.CreateDefaultContext()\n",
        "\n",
        "jacobian = Textarea(value=\"\", description=\"J_G: \", layout={'width':'60%','height':'100px'}, style={'description_width':'initial'})\n",
        "sigma = Text(value=\"\", description=\"smallest singular value(J_G): \", layout={'width':'60%'}, style={'description_width':'initial'})\n",
        "plant = station.get_multibody_plant()\n",
        "\n",
        "G = plant.GetBodyByName(\"body\").body_frame()\n",
        "W = plant.world_frame()\n",
        "def pose_callback(context):\n",
        "    J_G = plant.CalcJacobianSpatialVelocity(context, JacobianWrtVariable.kQDot, G, [0,0,0], W, W)   ## This is the important line\n",
        "    jacobian.value = np.array2string(J_G, formatter={'float': lambda x: \"{:5.1f}\".format(x)})\n",
        "    sigma.value = str(np.min(np.linalg.svd(J_G, compute_uv=False)))\n",
        "\n",
        "joint_sliders_with_callbacks(station.get_multibody_plant(), meshcat, context, extra_callback=pose_callback)\n",
        "display(jacobian)\n",
        "display(sigma)\n"
      ],
      "execution_count": null,
      "outputs": []
    },
    {
      "cell_type": "markdown",
      "metadata": {
        "id": "UZym7Xo7slPU",
        "colab_type": "text"
      },
      "source": [
        "# Our first end-effector \"controller\"\n",
        "\n",
        "Let's use the pseudo-inverse of the Jacobian to drive the robot around.  To do that, we'll write a very simple system that looks at the current value of $q$, computes $[J^G]^+$, and uses it to command a constant spatial velocity, $V^G$.\n",
        "\n",
        "We'll only run this controller for a short duration.  Constant spatial velocities aren't something that makes sense for a longer simulation!\n",
        "\n",
        "Make sure you try changing $V^G$, and understand how the command relates to the motion of the robot."
      ]
    },
    {
      "cell_type": "code",
      "metadata": {
        "id": "WBTFzB5ZuXvP",
        "colab_type": "code",
        "colab": {}
      },
      "source": [
        "import numpy as np\n",
        "\n",
        "from pydrake.all import (\n",
        "    BasicVector, DiagramBuilder, ConnectMeshcatVisualizer, Integrator,\n",
        "    JacobianWrtVariable, LeafSystem, Simulator)\n",
        "from pydrake.examples.manipulation_station import ManipulationStation\n",
        "\n",
        "# We can write a new System by deriving from the LeafSystem class.\n",
        "# There is a little bit of boiler plate, but hopefully this example makes sense.\n",
        "class PseudoInverseController(LeafSystem):\n",
        "    def __init__(self, plant):\n",
        "        LeafSystem.__init__(self)\n",
        "        self._plant = plant\n",
        "        self._plant_context = plant.CreateDefaultContext()\n",
        "        self._iiwa = plant.GetModelInstanceByName(\"iiwa\")\n",
        "        self._G = plant.GetBodyByName(\"body\").body_frame()\n",
        "        self._W = plant.world_frame()\n",
        "\n",
        "        self.DeclareVectorInputPort(\"iiwa_position\", BasicVector(7))\n",
        "        self.DeclareVectorOutputPort(\"iiwa_velocity\", BasicVector(7), \n",
        "                                     self.CalcOutput)\n",
        "\n",
        "    def CalcOutput(self, context, output):\n",
        "        q = self.get_input_port().Eval(context)\n",
        "        self._plant.SetPositions(self._plant_context, self._iiwa, q)\n",
        "        J_G = plant.CalcJacobianSpatialVelocity(\n",
        "            self._plant_context, JacobianWrtVariable.kQDot, \n",
        "            self._G, [0,0,0], self._W, self._W)\n",
        "        J_G = J_G[:,0:7] # Ignore gripper terms\n",
        "        \n",
        "        V_G_desired = np.array([0,    # rotation about x\n",
        "                                -.1,  # rotation about y\n",
        "                                0,    # rotation about z\n",
        "                                0,    # x\n",
        "                                -.05, # y\n",
        "                                -.1]) # z\n",
        "        v = np.linalg.pinv(J_G).dot(V_G_desired)\n",
        "        output.SetFromVector(v)\n",
        "\n",
        "        \n",
        "close_sliders()\n",
        "builder = DiagramBuilder()\n",
        "\n",
        "station = builder.AddSystem(ManipulationStation())\n",
        "station.SetupClutterClearingStation()\n",
        "station.Finalize()\n",
        "\n",
        "controller = builder.AddSystem(PseudoInverseController(\n",
        "    station.get_multibody_plant()))\n",
        "integrator = builder.AddSystem(Integrator(7))\n",
        "\n",
        "builder.Connect(controller.get_output_port(), \n",
        "                integrator.get_input_port())\n",
        "builder.Connect(integrator.get_output_port(),\n",
        "                station.GetInputPort(\"iiwa_position\"))\n",
        "builder.Connect(station.GetOutputPort(\"iiwa_position_measured\"),\n",
        "                controller.get_input_port())\n",
        "\n",
        "meshcat = ConnectMeshcatVisualizer(builder,\n",
        "    station.get_scene_graph(),\n",
        "    output_port=station.GetOutputPort(\"pose_bundle\"),\n",
        "    zmq_url=zmq_url)\n",
        "\n",
        "diagram = builder.Build()\n",
        "simulator = Simulator(diagram)\n",
        "station_context = station.GetMyContextFromRoot(simulator.get_mutable_context())\n",
        "station.GetInputPort(\"iiwa_feedforward_torque\").FixValue(station_context, np.zeros((7,1)))\n",
        "station.GetInputPort(\"wsg_position\").FixValue(station_context, [0.1])\n",
        "# TODO(russt): Add this missing python binding\n",
        "#integrator.set_integral_value(\n",
        "#    integrator.GetMyContextFromRoot(simulator.get_mutable_context()), \n",
        "#        station.GetIiwaPosition(station_context))\n",
        "integrator.GetMyContextFromRoot(simulator.get_mutable_context()).get_mutable_continuous_state_vector().SetFromVector(station.GetIiwaPosition(station_context))\n",
        "\n",
        "simulator.set_target_realtime_rate(1.0)\n",
        "simulator.AdvanceTo(0.01);"
      ],
      "execution_count": null,
      "outputs": []
    },
    {
      "cell_type": "code",
      "metadata": {
        "id": "6v-EGfoI3y6V",
        "colab_type": "code",
        "colab": {}
      },
      "source": [
        "# Wait for the model to load in the visualizer, then run this cell to see the interesting part...\n",
        "simulator.AdvanceTo(5.0);"
      ],
      "execution_count": null,
      "outputs": []
    },
    {
      "cell_type": "markdown",
      "metadata": {
        "id": "DfwIMIJCSkx6",
        "colab_type": "text"
      },
      "source": [
        "# Compute grasp and pregrasp poses\n",
        "\n",
        "Here is a simple example with a floating Schunk gripper and the foam brick.  It defines the grasp pose as described in the notes, and renders it to the 3D visualizer.\n",
        "\n",
        "**Check yourself**: Try changing the grasp pose to our pregrasp pose.  Do you like the numbers that I picked in the text?"
      ]
    },
    {
      "cell_type": "code",
      "metadata": {
        "id": "QuFmomDOxoAR",
        "colab_type": "code",
        "colab": {}
      },
      "source": [
        "import numpy as np\n",
        "from pydrake.all import (\n",
        "    AddMultibodyPlantSceneGraph, DiagramBuilder, ConnectMeshcatVisualizer, \n",
        "    FindResourceOrThrow, Parser, RigidTransform, RotationMatrix)\n",
        "\n",
        "builder = DiagramBuilder()\n",
        "\n",
        "plant, scene_graph = AddMultibodyPlantSceneGraph(builder, time_step = 0.0)\n",
        "parser = Parser(plant, scene_graph)\n",
        "grasp = parser.AddModelFromFile(FindResourceOrThrow(\n",
        "    \"drake/manipulation/models/wsg_50_description/sdf/schunk_wsg_50_no_tip.sdf\"), \"grasp\")\n",
        "# TODO(russt): Draw the pregrasp gripper, too, as transparent (drake #13970).\n",
        "#pregrasp = parser.AddModelFromFile(FindResourceOrThrow(\n",
        "#    \"drake/manipulation/models/wsg_50_description/sdf/schunk_wsg_50_no_tip.sdf\"), \"pregrasp\")\n",
        "brick = parser.AddModelFromFile(FindResourceOrThrow(\n",
        "    \"drake/examples/manipulation_station/models/061_foam_brick.sdf\"))\n",
        "plant.Finalize()\n",
        "\n",
        "\n",
        "meshcat = ConnectMeshcatVisualizer(builder, scene_graph, zmq_url=zmq_url)\n",
        "\n",
        "diagram = builder.Build()\n",
        "context = diagram.CreateDefaultContext()\n",
        "plant_context = plant.GetMyContextFromRoot(context)\n",
        "\n",
        "# TODO(russt): Set a random pose of the object.\n",
        "\n",
        "# Get the current object, O, pose\n",
        "B_O = plant.GetBodyByName(\"base_link\", brick)\n",
        "X_WO = plant.EvalBodyPoseInWorld(plant_context, B_O)\n",
        "\n",
        "B_Ggrasp = plant.GetBodyByName(\"body\", grasp)\n",
        "p_GgraspO = [0, 0.12, 0]\n",
        "R_GgraspO = RotationMatrix.MakeXRotation(np.pi/2.0).multiply(\n",
        "    RotationMatrix.MakeZRotation(np.pi/2.0))\n",
        "X_GgraspO = RigidTransform(R_GgraspO, p_GgraspO)\n",
        "X_OGgrasp = X_GgraspO.inverse()\n",
        "X_WGgrasp = X_WO.multiply(X_OGgrasp)\n",
        "\n",
        "plant.SetFreeBodyPose(plant_context, B_Ggrasp, X_WGgrasp)\n",
        "# Open the fingers, too.\n",
        "plant.GetJointByName(\"left_finger_sliding_joint\", grasp).set_translation(plant_context, 0.054)\n",
        "plant.GetJointByName(\"right_finger_sliding_joint\", grasp).set_translation(plant_context, -0.054)\n",
        "\n",
        "meshcat.load()\n",
        "diagram.Publish(context)"
      ],
      "execution_count": null,
      "outputs": []
    },
    {
      "cell_type": "markdown",
      "metadata": {
        "id": "d5p2tbJWrWZ5",
        "colab_type": "text"
      },
      "source": [
        "# Pick and place trajectories\n",
        "\n",
        "Let's first define the canonical frames of our problem.  We've got a handful of them, and will pass them in and out of several functions, so I'll use a dictionary to store them."
      ]
    },
    {
      "cell_type": "code",
      "metadata": {
        "id": "zYuRDF6mSBx5",
        "colab_type": "code",
        "colab": {}
      },
      "source": [
        "from pydrake.all import RigidTransform, RotationMatrix\n",
        "\n",
        "def make_gripper_frames(X_G, X_O):\n",
        "  \"\"\"\n",
        "  Takes a partial specification with X_G[\"initial\"] and X_O[\"initial\"] and X_0[\"goal\"], and \n",
        "  returns a X_G and times with all of the pick and place frames populated.\n",
        "  \"\"\"\n",
        "  # Define (again) the gripper pose relative to the object when in grasp.\n",
        "  p_GgraspO = [0, 0.12, 0]\n",
        "  R_GgraspO = RotationMatrix.MakeXRotation(np.pi/2.0).multiply(\n",
        "      RotationMatrix.MakeZRotation(np.pi/2.0))\n",
        "  X_GgraspO = RigidTransform(R_GgraspO, p_GgraspO)\n",
        "  X_OGgrasp = X_GgraspO.inverse()\n",
        "  # pregrasp is negative y in the gripper frame (see the figure!).\n",
        "  X_GgraspGpregrasp = RigidTransform([0, -0.08, 0])\n",
        "\n",
        "  X_G[\"pick\"] = X_O[\"initial\"].multiply(X_OGgrasp)\n",
        "  X_G[\"prepick\"] = X_G[\"pick\"].multiply(X_GgraspGpregrasp)\n",
        "  X_G[\"place\"] = X_O[\"goal\"].multiply(X_OGgrasp)\n",
        "  X_G[\"preplace\"] = X_G[\"place\"].multiply(X_GgraspGpregrasp)\n",
        "\n",
        "  # Now let's set the timing\n",
        "  times = {\"initial\": 0}\n",
        "  X_GinitialGprepick = X_G[\"initial\"].inverse().multiply(X_G[\"prepick\"])\n",
        "  times[\"prepick\"] = times[\"initial\"] + 20.0*np.linalg.norm(X_GinitialGprepick.translation())\n",
        "  # Allow some time for the gripper to close.\n",
        "  times[\"pick_start\"] = times[\"prepick\"] + 2.0\n",
        "  times[\"pick_end\"] = times[\"pick_start\"] + 2.0\n",
        "  times[\"postpick\"] = times[\"pick_end\"] + 2.0\n",
        "  X_GprepickGpreplace = X_G[\"prepick\"].inverse().multiply(X_G[\"preplace\"])\n",
        "  times[\"preplace\"] = times[\"postpick\"] + 20.0*np.linalg.norm(X_GprepickGpreplace.translation())\n",
        "  times[\"place_start\"] = times[\"preplace\"] + 2.0\n",
        "  times[\"place_end\"] = times[\"place_start\"] + 2.0\n",
        "  times[\"postplace\"] = times[\"place_end\"] + 2.0\n",
        "\n",
        "  return X_G, times\n",
        "\n",
        "X_G = {\"initial\": RigidTransform(RotationMatrix.MakeXRotation(-np.pi/2.0), [0, -0.25, 0.25])}\n",
        "X_O = {\"initial\": RigidTransform(RotationMatrix.MakeZRotation(np.pi/2.0), [-.2, -.25, 0.025]),\n",
        "       \"goal\": RigidTransform([.25, 0, 0.025])}\n",
        "X_G, times = make_gripper_frames(X_G, X_O)\n",
        "print(f\"Sanity check: The entire maneuver will take {times['postplace']} seconds to execute.\")"
      ],
      "execution_count": null,
      "outputs": []
    },
    {
      "cell_type": "markdown",
      "metadata": {
        "id": "JnmfEw0zgzsn",
        "colab_type": "text"
      },
      "source": [
        "Here's a simple visualization of those frames.  Use the controls menu in meshcat to view the different objects on the different \"paths\" to understand which objects belong to which frames.  Everything look reasonable?\n",
        "\n",
        "Try changing the initial and final pose of the gripper / object."
      ]
    },
    {
      "cell_type": "code",
      "metadata": {
        "id": "oXh50Cf1hU6N",
        "colab_type": "code",
        "colab": {}
      },
      "source": [
        "from pydrake.all import (\n",
        "    AddMultibodyPlantSceneGraph, DiagramBuilder, ConnectMeshcatVisualizer, \n",
        "    FindResourceOrThrow, Parser, RigidTransform, RotationMatrix)\n",
        "\n",
        "def visualize_gripper_frames(X_G, X_O):\n",
        "    builder = DiagramBuilder()\n",
        "\n",
        "    plant, scene_graph = AddMultibodyPlantSceneGraph(builder, time_step = 0.0)\n",
        "    parser = Parser(plant, scene_graph)\n",
        "    gripper = FindResourceOrThrow(\n",
        "        \"drake/manipulation/models/wsg_50_description/sdf/schunk_wsg_50_no_tip.sdf\")\n",
        "    object = FindResourceOrThrow(\n",
        "        \"drake/examples/manipulation_station/models/061_foam_brick.sdf\")\n",
        "    for key, pose in X_G.items():\n",
        "      g = parser.AddModelFromFile(gripper, f\"gripper_{key}\")\n",
        "      plant.WeldFrames(plant.world_frame(), plant.GetFrameByName(\"body\", g), pose)\n",
        "    for key, pose in X_O.items():\n",
        "      o = parser.AddModelFromFile(object, f\"object_{key}\")\n",
        "      plant.WeldFrames(plant.world_frame(), plant.GetFrameByName(\"base_link\", o), pose)\n",
        "\n",
        "    plant.Finalize()\n",
        "\n",
        "\n",
        "    meshcat = ConnectMeshcatVisualizer(builder, scene_graph, zmq_url=zmq_url)\n",
        "    meshcat.load()\n",
        "\n",
        "    diagram = builder.Build()\n",
        "    context = diagram.CreateDefaultContext()\n",
        "    diagram.Publish(context)\n",
        "\n",
        "visualize_gripper_frames(X_G, X_O)"
      ],
      "execution_count": null,
      "outputs": []
    },
    {
      "cell_type": "markdown",
      "metadata": {
        "id": "HmcG3b_xSeQR",
        "colab_type": "text"
      },
      "source": [
        "We've defined the keyframes, but now we will fill in timing details (what should be happening at each instant).  Interpolating between the positions is quite simple; we can encode these details as a `PiecewisePolynomial` trajectory in $\\Re^3$ over time."
      ]
    },
    {
      "cell_type": "code",
      "metadata": {
        "id": "oiwljuszWh_O",
        "colab_type": "code",
        "colab": {}
      },
      "source": [
        "from pydrake.all import PiecewisePolynomial\n",
        "\n",
        "def make_gripper_position_trajectory(X_G, times):\n",
        "    \"\"\"\n",
        "    Constructs a gripper position trajectory from the plan \"sketch\".\n",
        "    \"\"\"\n",
        "    # The syntax here is a little ugly; we need to pass in a matrix with the samples in the columns.\n",
        "    # TODO(russt): Add python bindings for the std::vector constructor.\n",
        "    traj = PiecewisePolynomial.FirstOrderHold(\n",
        "        [times[\"initial\"], times[\"prepick\"]], np.vstack([X_G[\"initial\"].translation(), X_G[\"prepick\"].translation()]).T)\n",
        "\n",
        "    # TODO(russt): I could make this less brittle if I was more careful on the names above, and just look up the pose for every time (in order)\n",
        "    traj.AppendFirstOrderSegment(times[\"pick_start\"], X_G[\"pick\"].translation())\n",
        "    traj.AppendFirstOrderSegment(times[\"pick_end\"], X_G[\"pick\"].translation())\n",
        "    traj.AppendFirstOrderSegment(times[\"postpick\"], X_G[\"prepick\"].translation())\n",
        "    traj.AppendFirstOrderSegment(times[\"preplace\"], X_G[\"preplace\"].translation())\n",
        "    traj.AppendFirstOrderSegment(times[\"place_start\"], X_G[\"place\"].translation())\n",
        "    traj.AppendFirstOrderSegment(times[\"place_end\"], X_G[\"place\"].translation())\n",
        "    traj.AppendFirstOrderSegment(times[\"postplace\"], X_G[\"preplace\"].translation())\n",
        "\n",
        "    return traj\n",
        "\n",
        "traj_p_G = make_gripper_position_trajectory(X_G, times)"
      ],
      "execution_count": null,
      "outputs": []
    },
    {
      "cell_type": "markdown",
      "metadata": {
        "id": "2PnYrnSmEMYC",
        "colab_type": "text"
      },
      "source": [
        "Now let's plot our trajectories.  `Altair` is a plotting library built on Pandas and Vega-lite (to support interactive graphics), which works well in Colab.  I aim to start using it more.  "
      ]
    },
    {
      "cell_type": "code",
      "metadata": {
        "id": "Ppd-5B3V3cNC",
        "colab_type": "code",
        "colab": {}
      },
      "source": [
        "import altair as alt\n",
        "\n",
        "data = dataframe(traj_p_G, traj_p_G.get_segment_times(), ['x','y','z'])\n",
        "alt.vconcat(\n",
        "  alt.Chart(data).mark_line().encode(x='t', y='x').properties(height=80),\n",
        "  alt.Chart(data).mark_line().encode(x='t', y='y').properties(height=80),\n",
        "  alt.Chart(data).mark_line().encode(x='t', y='z').properties(height=80),\n",
        ")\n"
      ],
      "execution_count": null,
      "outputs": []
    },
    {
      "cell_type": "markdown",
      "metadata": {
        "id": "NhXx70MP4C2N",
        "colab_type": "text"
      },
      "source": [
        "We also need to come up with a time trajectory for the orientations of our gripper.  Simple straight-line interpolation between rotations doesn't work particularly well, no matter how you are representing your rotations.  We'll use the quaternion \"slerp\" here (short for \"spherical linear interpolation\"), using the `PiecewiseQuaternionSlerp` trajectory class."
      ]
    },
    {
      "cell_type": "code",
      "metadata": {
        "id": "4yvktzauCntQ",
        "colab_type": "code",
        "colab": {}
      },
      "source": [
        "from pydrake.all import PiecewiseQuaternionSlerp\n",
        "\n",
        "def make_gripper_orientation_trajectory(X_G, times):\n",
        "    \"\"\"\n",
        "    Constructs a gripper position trajectory from the plan \"sketch\".\n",
        "    \"\"\"\n",
        "    traj = PiecewiseQuaternionSlerp();\n",
        "    traj.Append(times[\"initial\"], X_G[\"initial\"].rotation())\n",
        "    traj.Append(times[\"prepick\"], X_G[\"prepick\"].rotation())\n",
        "    traj.Append(times[\"pick_start\"], X_G[\"pick\"].rotation())\n",
        "    traj.Append(times[\"pick_end\"], X_G[\"pick\"].rotation())\n",
        "    traj.Append(times[\"postpick\"], X_G[\"prepick\"].rotation())\n",
        "    traj.Append(times[\"preplace\"], X_G[\"preplace\"].rotation())\n",
        "    traj.Append(times[\"place_start\"], X_G[\"place\"].rotation())\n",
        "    traj.Append(times[\"place_end\"], X_G[\"place\"].rotation())\n",
        "    traj.Append(times[\"postplace\"], X_G[\"preplace\"].rotation())\n",
        "\n",
        "    return traj\n",
        "\n",
        "traj_R_G = make_gripper_orientation_trajectory(X_G, times)"
      ],
      "execution_count": null,
      "outputs": []
    },
    {
      "cell_type": "markdown",
      "metadata": {
        "id": "zNNRr4Fq7frG",
        "colab_type": "text"
      },
      "source": [
        "We can plot the orientation trajectory, too.  Here are the components of the quaternion over time."
      ]
    },
    {
      "cell_type": "code",
      "metadata": {
        "id": "4aKEnaLJ50pF",
        "colab_type": "code",
        "colab": {}
      },
      "source": [
        "data = dataframe(traj_R_G, traj_R_G.get_segment_times(), ['x','y','z','w'])\n",
        "alt.vconcat(\n",
        "  alt.Chart(data).mark_line().encode(x='t', y='x').properties(height=80),\n",
        "  alt.Chart(data).mark_line().encode(x='t', y='y').properties(height=80),\n",
        "  alt.Chart(data).mark_line().encode(x='t', y='z').properties(height=80),\n",
        "  alt.Chart(data).mark_line().encode(x='t', y='w').properties(height=80)\n",
        ")"
      ],
      "execution_count": null,
      "outputs": []
    },
    {
      "cell_type": "markdown",
      "metadata": {
        "id": "dWCyowMC8LUN",
        "colab_type": "text"
      },
      "source": [
        "Better, I think, to just plot the entire result.  Before we do, let's quickly define the finger trajectory."
      ]
    },
    {
      "cell_type": "code",
      "metadata": {
        "id": "65OocrXD8TSA",
        "colab_type": "code",
        "colab": {}
      },
      "source": [
        "from pydrake.all import PiecewisePolynomial\n",
        "\n",
        "open = np.array([0.107]);\n",
        "closed = np.array([0.0]);\n",
        "\n",
        "traj_wsg_command = PiecewisePolynomial.FirstOrderHold(\n",
        "    [times[\"initial\"], times[\"pick_start\"]], np.hstack([[open], [open]]))\n",
        "traj_wsg_command.AppendFirstOrderSegment(times[\"pick_end\"], closed)\n",
        "traj_wsg_command.AppendFirstOrderSegment(times[\"place_start\"], closed)\n",
        "traj_wsg_command.AppendFirstOrderSegment(times[\"place_end\"], open)\n",
        "traj_wsg_command.AppendFirstOrderSegment(times[\"postplace\"], open)"
      ],
      "execution_count": null,
      "outputs": []
    },
    {
      "cell_type": "code",
      "metadata": {
        "id": "aEc95stq9tyx",
        "colab_type": "code",
        "colab": {}
      },
      "source": [
        "import altair as alt\n",
        "\n",
        "data = dataframe(traj_wsg_command, traj_wsg_command.get_segment_times(), ['wsg'])\n",
        "alt.Chart(data).mark_line().encode(x='t', y='wsg').properties(height=80)"
      ],
      "execution_count": null,
      "outputs": []
    },
    {
      "cell_type": "code",
      "metadata": {
        "id": "PZ7S7oai_ORF",
        "colab_type": "code",
        "colab": {}
      },
      "source": [
        ""
      ],
      "execution_count": null,
      "outputs": []
    }
  ]
}