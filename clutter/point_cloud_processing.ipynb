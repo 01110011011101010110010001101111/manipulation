{
  "cells": [
    {
      "cell_type": "markdown",
      "metadata": {
        "id": "TKvYiJgnYExi"
      },
      "source": [
        "This notebook provides examples to go along with the [textbook](http://manipulation.csail.mit.edu/clutter.html).  I recommend having both windows open, side-by-side!"
      ]
    },
    {
      "cell_type": "code",
      "execution_count": null,
      "metadata": {
        "id": "A4QOaw_zYLfI"
      },
      "outputs": [],
      "source": [
        "import numpy as np\n",
        "import open3d as o3d\n",
        "from pydrake.all import Box, PointCloud, RotationMatrix, StartMeshcat\n",
        "\n",
        "from manipulation.meshcat_utils import draw_open3d_point_cloud\n",
        "from manipulation.mustard_depth_camera_example import MustardExampleSystem\n",
        "from manipulation.open3d_utils import create_open3d_point_cloud\n"
      ]
    },
    {
      "cell_type": "code",
      "execution_count": null,
      "metadata": {},
      "outputs": [],
      "source": [
        "# Start the visualizer.\n",
        "meshcat = StartMeshcat()"
      ]
    },
    {
      "cell_type": "markdown",
      "metadata": {
        "id": "qxboQZ1IJlGM"
      },
      "source": [
        "# Point cloud processing with Open3d\n",
        "\n",
        "I've produced a scene with multiple cameras looking at our favorite YCB mustard bottle.  I've taken the individual point clouds, converted them into Open3d's point cloud format, estimated their normals, merged the point clouds, cropped then point clouds (to get rid of the geometry from the other cameras), then downsampled the point clouds.  (The order is important!)\n",
        "\n",
        "I've pushed all of the point clouds to meshcat, but with many of them set to not be visible by default.  Use the drop-down menu to turn them on and off, and make sure you understand basically what is happening on each of the steps."
      ]
    },
    {
      "cell_type": "code",
      "execution_count": null,
      "metadata": {
        "tags": []
      },
      "outputs": [],
      "source": [
        "def point_cloud_processing_example():\n",
        "    # This just sets up our mustard bottle with three depth cameras positioned around it.\n",
        "    system = MustardExampleSystem()\n",
        "\n",
        "    plant = system.GetSubsystemByName(\"plant\")\n",
        "\n",
        "    # Evaluate the camera output ports to get the images.\n",
        "    context = system.CreateDefaultContext()\n",
        "    plant_context = plant.GetMyContextFromRoot(context)\n",
        "\n",
        "    meshcat.Delete()\n",
        "    meshcat.SetProperty(\"/Background\", \"visible\", False)\n",
        "\n",
        "    pcd = []\n",
        "    for i in range(3):\n",
        "        point_cloud = system.GetOutputPort(f\"camera{i}_point_cloud\").Eval(context)\n",
        "        meshcat.SetObject(f\"pointcloud{i}\", point_cloud, point_size=0.001)\n",
        "        meshcat.SetProperty(f\"pointcloud{i}\", \"visible\", False)\n",
        "\n",
        "        cloud = create_open3d_point_cloud(point_cloud)\n",
        "        # Crop to region of interest.\n",
        "        pcd.append(cloud.crop(\n",
        "            o3d.geometry.AxisAlignedBoundingBox(min_bound=[-.3, -.3, -.3],\n",
        "                                                max_bound=[.3, .3, .3])))\n",
        "        draw_open3d_point_cloud(meshcat, f\"pointcloud{i}_cropped\", pcd[i])\n",
        "        meshcat.SetProperty(f\"pointcloud{i}_cropped\", \"visible\", False)\n",
        "\n",
        "        pcd[i].estimate_normals(search_param=o3d.geometry.KDTreeSearchParamHybrid(\n",
        "            radius=0.1, max_nn=30))\n",
        "\n",
        "        camera = plant.GetModelInstanceByName(f\"camera{i}\")\n",
        "        body = plant.GetBodyByName(\"base\", camera)\n",
        "        X_C = plant.EvalBodyPoseInWorld(plant_context, body)\n",
        "        pcd[i].orient_normals_towards_camera_location(X_C.translation())\n",
        "\n",
        "    # Merge point clouds.  (Note: You might need something more clever here for\n",
        "    # noisier point clouds; but this can often work!)\n",
        "    merged_pcd = pcd[0] + pcd[1] + pcd[2]\n",
        "    draw_open3d_point_cloud(meshcat, \"merged\", merged_pcd)\n",
        "\n",
        "    # Voxelize down-sample.  (Note that the normals still look reasonable)\n",
        "    down_sampled_pcd = merged_pcd.voxel_down_sample(voxel_size=0.005)\n",
        "    draw_open3d_point_cloud(meshcat, \"down_sampled\", down_sampled_pcd)\n",
        "\n",
        "    # TODO(russt): Make normal rendering work in Meshcat C++\n",
        "    #draw_open3d_point_cloud(v[\"normals\"], down_sampled_pcd, normals_scale=0.01)\n",
        "    ## Let the normals be drawn, only turn off the object...\n",
        "    #v[\"normals\"][\"<object>\"].set_property(\"visible\", False)\n",
        "\n",
        "    # If we wanted to show it in the open3d visualizer, we would use...\n",
        "    # print(\"Use 'n' to show normals, and '+/-' to change their size.\")\n",
        "    # o3d.visualization.draw_geometries([down_sampled_pcd])\n",
        "\n",
        "\n",
        "point_cloud_processing_example()"
      ]
    }
  ],
  "metadata": {
    "colab": {
      "collapsed_sections": [],
      "name": "Robotic Manipulation - Bin Picking.ipynb",
      "provenance": [],
      "toc_visible": true
    },
    "kernelspec": {
      "display_name": "Python 3.10.6 64-bit",
      "language": "python",
      "name": "python3"
    },
    "language_info": {
      "codemirror_mode": {
        "name": "ipython",
        "version": 3
      },
      "file_extension": ".py",
      "mimetype": "text/x-python",
      "name": "python",
      "nbconvert_exporter": "python",
      "pygments_lexer": "ipython3",
      "version": "3.10.6"
    },
    "vscode": {
      "interpreter": {
        "hash": "b0fa6594d8f4cbf19f97940f81e996739fb7646882a419484c72d19e05852a7e"
      }
    }
  },
  "nbformat": 4,
  "nbformat_minor": 2
}
