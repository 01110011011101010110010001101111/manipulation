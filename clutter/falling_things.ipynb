{
  "cells": [
    {
      "cell_type": "markdown",
      "metadata": {
        "id": "TKvYiJgnYExi"
      },
      "source": [
        "This notebook provides examples to go along with the [textbook](http://manipulation.csail.mit.edu/clutter.html).  I recommend having both windows open, side-by-side!"
      ]
    },
    {
      "cell_type": "code",
      "execution_count": null,
      "metadata": {
        "id": "A4QOaw_zYLfI"
      },
      "outputs": [],
      "source": [
        "import matplotlib.pyplot as plt\n",
        "import numpy as np\n",
        "from IPython.display import HTML, display\n",
        "from pydrake.all import (AddMultibodyPlantSceneGraph, Box,\n",
        "                         ConnectPlanarSceneGraphVisualizer, CoulombFriction,\n",
        "                         DiagramBuilder, DrakeVisualizer, FindResourceOrThrow,\n",
        "                         FixedOffsetFrame, JointIndex, Parser, PlanarJoint,\n",
        "                         RandomGenerator, RigidTransform, RollPitchYaw,\n",
        "                         RotationMatrix, Simulator,\n",
        "                         UniformlyRandomRotationMatrix)\n",
        "\n",
        "from manipulation import running_as_notebook\n",
        "from manipulation.scenarios import AddFloatingRpyJoint, AddRgbdSensor\n",
        "\n",
        "ycb = [(\"cracker\", \"003_cracker_box.sdf\"),\n",
        "        (\"sugar\", \"004_sugar_box.sdf\"),\n",
        "        (\"soup\", \"005_tomato_soup_can.sdf\"),\n",
        "        (\"mustard\", \"006_mustard_bottle.sdf\"),\n",
        "        (\"gelatin\", \"009_gelatin_box.sdf\"),\n",
        "        (\"meat\", \"010_potted_meat_can.sdf\")]\n"
      ]
    },
    {
      "cell_type": "markdown",
      "metadata": {
        "id": "fGbe-rJGJlF0"
      },
      "source": [
        "# Falling things (in 2D)\n"
      ]
    },
    {
      "cell_type": "code",
      "execution_count": null,
      "metadata": {
        "id": "_JIDhLfN3BSe",
        "tags": []
      },
      "outputs": [],
      "source": [
        "def clutter_gen():\n",
        "    builder = DiagramBuilder()\n",
        "\n",
        "    plant, scene_graph = AddMultibodyPlantSceneGraph(builder, time_step=0.001)\n",
        "\n",
        "    box = Box(10., 10., 10.)\n",
        "    X_WBox = RigidTransform([0, 0, -5])\n",
        "    mu = 1.0\n",
        "    plant.RegisterCollisionGeometry(plant.world_body(), X_WBox, box, \"ground\", CoulombFriction(mu, mu))\n",
        "    plant.RegisterVisualGeometry(plant.world_body(), X_WBox, box, \"ground\", [.9, .9, .9, 1.0])\n",
        "    planar_joint_frame = plant.AddFrame(FixedOffsetFrame(\"planar_joint_frame\", plant.world_frame(), RigidTransform(RotationMatrix.MakeXRotation(np.pi/2))))\n",
        "\n",
        "    parser = Parser(plant)\n",
        "\n",
        "    sdf = FindResourceOrThrow(\"drake/examples/manipulation_station/models/061_foam_brick.sdf\")\n",
        "\n",
        "    for i in range(20 if running_as_notebook else 2):\n",
        "        instance = parser.AddModelFromFile(sdf, f\"object{i}\")\n",
        "        plant.AddJoint(PlanarJoint(f\"joint{i}\", planar_joint_frame, plant.GetFrameByName(\"base_link\", instance), damping=[0,0,0]))\n",
        "\n",
        "    plant.Finalize()\n",
        "\n",
        "    vis = ConnectPlanarSceneGraphVisualizer(\n",
        "        builder, \n",
        "        scene_graph,\n",
        "        xlim=[-.6, .6],\n",
        "        ylim=[-.1, 0.5],\n",
        "        show=False,\n",
        "    )\n",
        "\n",
        "    diagram = builder.Build()\n",
        "    simulator = Simulator(diagram)\n",
        "    plant_context = plant.GetMyContextFromRoot(simulator.get_mutable_context())\n",
        "\n",
        "    rs = np.random.RandomState()\n",
        "    z = 0.1\n",
        "    for i in range(plant.num_joints()):\n",
        "        joint = plant.get_joint(JointIndex(i))\n",
        "        joint.set_pose(plant_context, [rs.uniform(-.4, .4), z], rs.uniform(-np.pi/2.0, np.pi/2.0))\n",
        "        z += 0.1\n",
        "\n",
        "    vis.start_recording()\n",
        "    simulator.AdvanceTo(1.5 if running_as_notebook else 0.1)\n",
        "    vis.stop_recording()\n",
        "    ani = vis.get_recording_as_animation(repeat=False)\n",
        "    display(HTML(ani.to_jshtml()))\n",
        "    \n",
        "clutter_gen()"
      ]
    },
    {
      "cell_type": "markdown",
      "metadata": {
        "id": "GoxjuO5PJlF4"
      },
      "source": [
        "# Falling things (in 3D)\n"
      ]
    },
    {
      "cell_type": "code",
      "execution_count": null,
      "metadata": {
        "id": "K2oyAnHfJlF5"
      },
      "outputs": [],
      "source": [
        "def clutter_gen():\n",
        "    builder = DiagramBuilder()\n",
        "\n",
        "    plant, scene_graph = AddMultibodyPlantSceneGraph(builder, time_step=0.0005)\n",
        "\n",
        "    parser = Parser(plant)\n",
        "\n",
        "    parser.AddModelFromFile(FindResourceOrThrow(\n",
        "        \"drake/examples/manipulation_station/models/bin.sdf\"))\n",
        "    plant.WeldFrames(plant.world_frame(), plant.GetFrameByName(\"bin_base\"))\n",
        "\n",
        "    rs = np.random.RandomState()  # this is for python\n",
        "    generator = RandomGenerator(rs.randint(1000))  # this is for c++\n",
        "    for i in range(10 if running_as_notebook else 2):\n",
        "        object_num = rs.randint(len(ycb))\n",
        "        sdf = FindResourceOrThrow(\"drake/manipulation/models/ycb/sdf/\" + ycb[object_num][1])\n",
        "        parser.AddModelFromFile(sdf, f\"object{i}\")\n",
        "\n",
        "    plant.Finalize()\n",
        "\n",
        "    camera = AddRgbdSensor(builder, scene_graph, RigidTransform(\n",
        "        RollPitchYaw(np.pi, 0, np.pi / 2.0), [0, 0, .8]))\n",
        "    builder.ExportOutput(camera.color_image_output_port(), \"color_image\")\n",
        "\n",
        "    # Note: if you're running this on a local machine, then you can \n",
        "    # use drake_visualizer to see the simulation.  (It's too slow to \n",
        "    # show the meshes on meshcat).\n",
        "    vis = DrakeVisualizer.AddToBuilder(\n",
        "        builder, \n",
        "        scene_graph\n",
        "    )\n",
        "\n",
        "    diagram = builder.Build()\n",
        "    simulator = Simulator(diagram)\n",
        "    context = simulator.get_mutable_context()\n",
        "    plant_context = plant.GetMyContextFromRoot(context)\n",
        "\n",
        "    z = 0.1\n",
        "    for body_index in plant.GetFloatingBaseBodies():\n",
        "        tf = RigidTransform(\n",
        "                UniformlyRandomRotationMatrix(generator),  \n",
        "                [rs.uniform(-.15,.15), rs.uniform(-.2, .2), z])\n",
        "        plant.SetFreeBodyPose(plant_context, \n",
        "                              plant.get_body(body_index),\n",
        "                              tf)\n",
        "        z += 0.1\n",
        "\n",
        "    simulator.AdvanceTo(1.0 if running_as_notebook else 0.1)\n",
        "    color_image = diagram.GetOutputPort(\"color_image\").Eval(context)\n",
        "    plt.figure()\n",
        "    plt.imshow(color_image.data)\n",
        "    plt.axis('off')\n",
        "\n",
        "clutter_gen()\n"
      ]
    },
    {
      "cell_type": "code",
      "execution_count": null,
      "metadata": {},
      "outputs": [],
      "source": []
    }
  ],
  "metadata": {
    "colab": {
      "collapsed_sections": [],
      "name": "Robotic Manipulation - Bin Picking.ipynb",
      "provenance": [],
      "toc_visible": true
    },
    "kernelspec": {
      "display_name": "Python 3.10.6 64-bit",
      "language": "python",
      "name": "python3"
    },
    "language_info": {
      "codemirror_mode": {
        "name": "ipython",
        "version": 3
      },
      "file_extension": ".py",
      "mimetype": "text/x-python",
      "name": "python",
      "nbconvert_exporter": "python",
      "pygments_lexer": "ipython3",
      "version": "3.10.6"
    },
    "vscode": {
      "interpreter": {
        "hash": "b0fa6594d8f4cbf19f97940f81e996739fb7646882a419484c72d19e05852a7e"
      }
    }
  },
  "nbformat": 4,
  "nbformat_minor": 2
}
